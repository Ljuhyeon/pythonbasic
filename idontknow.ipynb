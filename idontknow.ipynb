{
 "cells": [
  {
   "cell_type": "code",
   "execution_count": 28,
   "id": "6c79fe37-e98c-4684-9e5b-5dbad311740c",
   "metadata": {},
   "outputs": [],
   "source": [
    "import pymysql"
   ]
  },
  {
   "cell_type": "code",
   "execution_count": 41,
   "id": "ca531453-8956-4524-8fa0-ef46ec9ad3ff",
   "metadata": {},
   "outputs": [],
   "source": [
    "import pymysql.cursors\n",
    "\n",
    "# database 접속할 객체를 만듭니다.\n",
    "connection = pymysql.connect(host='localhost',\n",
    "                             user='root',\n",
    "                             password='python1234',\n",
    "                             database='python',\n",
    "                             cursorclass=pymysql.cursors.DictCursor)"
   ]
  },
  {
   "cell_type": "code",
   "execution_count": 33,
   "id": "f7cbfd76-2018-49e7-b0b7-58fb1caeda3a",
   "metadata": {},
   "outputs": [],
   "source": [
    "with connection:\n",
    "    with connection.cursor() as cursor:\n",
    "        # 새로운 값을 삽입합니다.\n",
    "        sql = \"INSERT INTO `users` (`email`, `password`) VALUES (%s, %s)\"\n",
    "        cursor.execute(sql, ('webmaster@python.org', 'very-secret'))\n",
    "\n",
    "    connection.commit()"
   ]
  },
  {
   "cell_type": "code",
   "execution_count": 42,
   "id": "3a41c94f-fdf9-4e07-b54b-b792ccbc094d",
   "metadata": {},
   "outputs": [
    {
     "name": "stdout",
     "output_type": "stream",
     "text": [
      "{'id': 1, 'password': 'very-secret'}\n"
     ]
    }
   ],
   "source": [
    "with connection:\n",
    "    with connection.cursor() as cursor:\n",
    "        # 데이터를 불러옵니다.\n",
    "        sql = \"SELECT `id`, `password` FROM `users` WHERE `email`=%s\"\n",
    "        cursor.execute(sql, ('webmaster@python.org',))\n",
    "        result = cursor.fetchone()\n",
    "        print(result)"
   ]
  },
  {
   "cell_type": "code",
   "execution_count": null,
   "id": "c3b103f9-c0ce-4aec-8083-c8931a30c788",
   "metadata": {},
   "outputs": [],
   "source": []
  },
  {
   "cell_type": "code",
   "execution_count": null,
   "id": "b1a8108e-e30d-4e20-8d59-aaab6cb0786a",
   "metadata": {},
   "outputs": [],
   "source": []
  },
  {
   "cell_type": "code",
   "execution_count": null,
   "id": "348ccbdd-fcf8-4c22-b7c2-0f004c03e538",
   "metadata": {},
   "outputs": [],
   "source": []
  },
  {
   "cell_type": "code",
   "execution_count": null,
   "id": "ec442e9b-74b4-4c00-9194-b30c41674e51",
   "metadata": {},
   "outputs": [],
   "source": []
  }
 ],
 "metadata": {
  "kernelspec": {
   "display_name": "Python 3 (ipykernel)",
   "language": "python",
   "name": "python3"
  },
  "language_info": {
   "codemirror_mode": {
    "name": "ipython",
    "version": 3
   },
   "file_extension": ".py",
   "mimetype": "text/x-python",
   "name": "python",
   "nbconvert_exporter": "python",
   "pygments_lexer": "ipython3",
   "version": "3.9.13"
  }
 },
 "nbformat": 4,
 "nbformat_minor": 5
}
