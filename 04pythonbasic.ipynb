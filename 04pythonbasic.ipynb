{
 "cells": [
  {
   "cell_type": "code",
   "execution_count": 1,
   "id": "a7b17f7b-3093-4ad2-bdd8-198a79566234",
   "metadata": {},
   "outputs": [
    {
     "name": "stdout",
     "output_type": "stream",
     "text": [
      "value 1 1.1 [1, 2, 'text']\n"
     ]
    }
   ],
   "source": [
    "print(\"value\", 1, 1.1, [1, 2, 'text'])"
   ]
  },
  {
   "cell_type": "code",
   "execution_count": 3,
   "id": "300ddd77-188a-4c4f-987b-9b36372e45a7",
   "metadata": {},
   "outputs": [
    {
     "name": "stdout",
     "output_type": "stream",
     "text": [
      "value,1,1.1,[1, 2, 'text']\n"
     ]
    }
   ],
   "source": [
    "#맨 마지막에 sep=구분기호 를 작성하여 이를 공백이 아닌 다른 문자로 변경 가능\n",
    "\n",
    "print(\"value\", 1, 1.1, [1, 2, 'text'], sep=\",\") "
   ]
  },
  {
   "cell_type": "code",
   "execution_count": 4,
   "id": "4ae8c142-4bee-44d1-92de-5a6d009a4a6e",
   "metadata": {},
   "outputs": [
    {
     "name": "stdout",
     "output_type": "stream",
     "text": [
      "줄이 바뀌지 않습니다. 그 이유는 end=\"\\n\"과 같이 기본 설정값을 빈 스트링으로 변경했기 때문입니다.\n",
      "sep, end는 맨 뒤에 써야하며 둘 간 순서는 상관없습니다.어떻게 사용하는지\n",
      "이해가 되시나요?"
     ]
    }
   ],
   "source": [
    "print(\"줄이 바뀌지 않습니다.\", end=\"\")\n",
    "print(\" 그 이유는 end=\\\"\\\\n\\\"과 같이 기본 설정값을 빈 스트링으로 변경했기 때문입니다.\")\n",
    "print(\"sep\",\"end는 맨 뒤에 써야하며 둘 간 순서는 상관없습니다.\", sep=\", \", end=\"\")\n",
    "print(\"어떻게 사용하는지\", \"이해가 되시나요\", sep=\"\\n\", end=\"?\")"
   ]
  },
  {
   "cell_type": "code",
   "execution_count": 7,
   "id": "ecb969ab-85b2-4129-8fb5-6fb8c2893de6",
   "metadata": {},
   "outputs": [
    {
     "name": "stdout",
     "output_type": "stream",
     "text": [
      "2021/02/03 18:33:23\n"
     ]
    }
   ],
   "source": [
    "year = '2021'\n",
    "month = '02'\n",
    "day = '03'\n",
    "hour = '18'\n",
    "minute = '33'\n",
    "second = '23'\n",
    "\n",
    "print(year, month, day, sep=\"/\", end=\" \")\n",
    "print(hour, minute, second, sep=\":\")"
   ]
  },
  {
   "cell_type": "code",
   "execution_count": 18,
   "id": "4aefa2f7-f58f-4e79-b2eb-85112415d647",
   "metadata": {},
   "outputs": [
    {
     "name": "stdin",
     "output_type": "stream",
     "text": [
      "사과와 귤을 몇개 드릴까요? 10,20\n"
     ]
    },
    {
     "name": "stdout",
     "output_type": "stream",
     "text": [
      "총 가격은 14000원입니다.\n"
     ]
    }
   ],
   "source": [
    "apple, tangerine = map(int, input(\"사과와 귤을 몇개 드릴까요?\").split(','))\n",
    "price = apple * 1000 + tangerine * 200\n",
    "print(\"총 가격은 \", price, \"원입니다.\", sep=\"\")"
   ]
  },
  {
   "cell_type": "code",
   "execution_count": 23,
   "id": "190e11b9-32a4-48ad-a913-9cc1cb4d72f4",
   "metadata": {},
   "outputs": [
    {
     "name": "stdout",
     "output_type": "stream",
     "text": [
      "10\n",
      "10 20\n",
      "101 202 303 404 505\n"
     ]
    }
   ],
   "source": [
    "#format 메서드\n",
    "\n",
    "print(\"{}\" .format(10))\n",
    "print(\"{} {}\" .format(10, 20))\n",
    "print(\"{} {} {} {} {}\" .format(101, 202, 303, 404, 505, 606))"
   ]
  },
  {
   "cell_type": "code",
   "execution_count": 24,
   "id": "4df7a9bf-830d-44c8-9083-9a25f03273d6",
   "metadata": {},
   "outputs": [
    {
     "name": "stdout",
     "output_type": "stream",
     "text": [
      "오늘의 날짜를 알려드립니다!\n",
      "2023년 2월 15일입니다.\n"
     ]
    }
   ],
   "source": [
    "import time\n",
    "\n",
    "today  = \"\"\"오늘의 날짜를 알려드립니다!\n",
    "{}년 {}월 {}일입니다.\\\n",
    "\"\"\".format(time.localtime().tm_year,\n",
    "           time.localtime().tm_mon,\n",
    "           time.localtime().tm_mday)\n",
    "\n",
    "print(today)"
   ]
  },
  {
   "cell_type": "code",
   "execution_count": 26,
   "id": "1c15bbe4-1bf9-49d0-b2a3-e6dd094365f0",
   "metadata": {},
   "outputs": [
    {
     "name": "stdout",
     "output_type": "stream",
     "text": [
      "중괄호는 2개이고, 여기 인수는\n"
     ]
    }
   ],
   "source": [
    "some_str = \"중괄호는 2개이고, {} {}\" .format(\"여기\", \"인수는\", \"3개 입니다.\")\n",
    "print(some_str)"
   ]
  },
  {
   "cell_type": "code",
   "execution_count": 32,
   "id": "a42a7dbb-135f-4d53-91c8-1779583bd588",
   "metadata": {},
   "outputs": [
    {
     "name": "stdout",
     "output_type": "stream",
     "text": [
      "10\n",
      "10 20 30\n",
      "101 202 303 404 505\n"
     ]
    }
   ],
   "source": [
    "# f-string\n",
    "\n",
    "print(f\"{10}\")\n",
    "print(f\"{10} {20} {30}\")\n",
    "print(f\"{101} {202} {303} {404} {505}\")"
   ]
  },
  {
   "cell_type": "code",
   "execution_count": 35,
   "id": "aab80d75-6576-4b49-84e8-5cea5888fc4b",
   "metadata": {},
   "outputs": [
    {
     "name": "stdout",
     "output_type": "stream",
     "text": [
      "오늘의 날짜를 알려드립니다!\n",
      "2023년 2월 15일\n"
     ]
    }
   ],
   "source": [
    "import time\n",
    "\n",
    "today = f\"\"\"오늘의 날짜를 알려드립니다!\n",
    "{time.localtime().tm_year}년 {time.localtime().tm_mon}월 {time.localtime().tm_mday}일\"\"\"\n",
    "\n",
    "print(today)"
   ]
  },
  {
   "cell_type": "code",
   "execution_count": 37,
   "id": "76b98bb1-f015-4512-ba7b-15b7448fb436",
   "metadata": {},
   "outputs": [
    {
     "name": "stdout",
     "output_type": "stream",
     "text": [
      "Hello world\n"
     ]
    }
   ],
   "source": [
    "# if문 : 조건이 맞을때만 실행하라\n",
    "\n",
    "is_great = True\n",
    "if is_great:\n",
    "    print(\"Hello world\")"
   ]
  },
  {
   "cell_type": "code",
   "execution_count": 48,
   "id": "eb754965-7c8a-476c-b5fc-e9317c2beed2",
   "metadata": {},
   "outputs": [
    {
     "name": "stdout",
     "output_type": "stream",
     "text": [
      "input_value4는 정수입니다.\n"
     ]
    }
   ],
   "source": [
    "input_value4 = int(2.3)\n",
    "if type(input_value4) is int:\n",
    "    print(\"input_value4는 정수입니다.\")"
   ]
  },
  {
   "cell_type": "code",
   "execution_count": 56,
   "id": "7787a20e-5886-4867-8f52-3b1ad4309573",
   "metadata": {},
   "outputs": [
    {
     "name": "stdout",
     "output_type": "stream",
     "text": [
      "input_value는 실수입니다.\n"
     ]
    }
   ],
   "source": [
    "# if문에 True와 False를 복합적으로 다룰때는 논리연산자를 사용\n",
    "# and: 좌,우, 모두 True 일 때 True 반환/ 반대로 하나라도 False이면 False\n",
    "# or: 좌, 우 중 하나라도 True일 때 True를 반환. / 반대로 모두 False일 때 False 반환\n",
    "# not: True를 False로 False를 True로 반환 \n",
    "\n",
    "input_value = 1.1\n",
    "\n",
    "if type(input_value) is float:\n",
    "    print(\"input_value는 실수입니다.\")\n",
    "elif type(input_value) is int:\n",
    "    print(\"input_value는 정수입니다.\")\n",
    "elif type(input_value) is str:\n",
    "    print(\"input_value는 문자열입니다.\")"
   ]
  },
  {
   "cell_type": "code",
   "execution_count": 68,
   "id": "546b1e45-1a5e-41cb-b9e2-26843254f3db",
   "metadata": {},
   "outputs": [
    {
     "name": "stdout",
     "output_type": "stream",
     "text": [
      "시작\n",
      "fail\n",
      "끝\n"
     ]
    }
   ],
   "source": [
    "# if문과 elif문\n",
    "\n",
    "c = 70\n",
    "print(\"시작\")\n",
    "\n",
    "if c >= 90:\n",
    "    print(\"수\")\n",
    "\n",
    "elif 90 > c and c >= 80:\n",
    "    print(\"우\")\n",
    "    \n",
    "elif 80 > c and c >= 70:\n",
    "    print(\"fail\")\n",
    "    \n",
    "print(\"끝\")"
   ]
  },
  {
   "cell_type": "code",
   "execution_count": 76,
   "id": "946f769a-77d3-43d1-8de2-e601b46e3d5c",
   "metadata": {},
   "outputs": [
    {
     "name": "stdout",
     "output_type": "stream",
     "text": [
      "20대 입니다.\n"
     ]
    }
   ],
   "source": [
    "age = 27\n",
    "\n",
    "if 20 <= age < 30:\n",
    "    print(\"20대 입니다.\")\n",
    "\n",
    "elif 30 <= age < 40:\n",
    "    print(\"30대 입니다.\")"
   ]
  },
  {
   "cell_type": "code",
   "execution_count": 81,
   "id": "022e9797-c328-4f02-8bcd-d3afcf916db3",
   "metadata": {},
   "outputs": [
    {
     "name": "stdout",
     "output_type": "stream",
     "text": [
      "3040 입니다.\n"
     ]
    }
   ],
   "source": [
    "# else 문 <- if, elif 모두 아니면 else\n",
    "\n",
    "age = 40\n",
    "\n",
    "if 20 <= age < 30:\n",
    "    print(\"20대 입니다.\")\n",
    "\n",
    "elif 30 <= age < 50:\n",
    "    print(\"3040 입니다.\")\n",
    "    \n",
    "else:\n",
    "    print(\"중장년층\")\n"
   ]
  },
  {
   "cell_type": "code",
   "execution_count": 96,
   "id": "6c0fd6a2-2cc2-4574-8b6b-ef32431d0dd4",
   "metadata": {},
   "outputs": [
    {
     "name": "stdin",
     "output_type": "stream",
     "text": [
      "아이디를 입력하세요 as\n",
      "회원 등급을 입력해주세요 4\n"
     ]
    },
    {
     "name": "stdout",
     "output_type": "stream",
     "text": [
      "권한이 없습니다.\n"
     ]
    }
   ],
   "source": [
    "user = input(\"아이디를 입력하세요\")\n",
    "if user == \"admin\":\n",
    "    print(\"최고 관리자, 모든 권한을 갖습니다.\")\n",
    "elif user != \"admin\":\n",
    "    rank = int(input(\"회원 등급을 입력해주세요\"))\n",
    "    if 1 <= rank <=3:\n",
    "        print(\"제한적인 권한을 갖습니다.\")\n",
    "    else:\n",
    "        print(\"권한이 없습니다.\")\n",
    "        \n",
    "# if문 아래를 제한적으로 생각하여 기존의 연산자 및 정의를 하지 못함.\n",
    "# = 은 대입연산자, == 은 같다는 의미"
   ]
  },
  {
   "cell_type": "code",
   "execution_count": 101,
   "id": "2b6ab0c4-1326-4c23-abec-6f01f518a406",
   "metadata": {},
   "outputs": [
    {
     "name": "stdin",
     "output_type": "stream",
     "text": [
      "아이디를 입력하세요 ad\n",
      "회원 등급을 입력해주세요 4\n"
     ]
    },
    {
     "name": "stdout",
     "output_type": "stream",
     "text": [
      "권한이 없습니다.\n"
     ]
    }
   ],
   "source": [
    "user = input(\"아이디를 입력하세요\")\n",
    "if user == \"admin\":\n",
    "    print(\"최고 관리자, 모든 권한을 갖습니다.\")\n",
    "else:\n",
    "    rank = int(input(\"회원 등급을 입력해주세요\"))\n",
    "    if 1 <= rank <=3:\n",
    "        print(\"제한적인 권한을 갖습니다.\")\n",
    "    else:\n",
    "        print(\"권한이 없습니다.\")\n",
    "        \n",
    "# 위 코드에서는 elif를 이용하여 연산자를 이용하였는데, else:로 간단하게 입력가능"
   ]
  },
  {
   "cell_type": "code",
   "execution_count": 110,
   "id": "7422f165-ed45-4b52-9103-0365e34bab15",
   "metadata": {},
   "outputs": [
    {
     "name": "stdin",
     "output_type": "stream",
     "text": [
      "자연수 하나를 입력해주세요 70\n"
     ]
    },
    {
     "name": "stdout",
     "output_type": "stream",
     "text": [
      "20\n"
     ]
    }
   ],
   "source": [
    "a = input(\"자연수 하나를 입력해주세요\")\n",
    "b = int(a) - 50\n",
    "\n",
    "if b >= 0:\n",
    "    print(b)\n",
    "else:\n",
    "    print(0)"
   ]
  },
  {
   "cell_type": "code",
   "execution_count": 112,
   "id": "70cbba4e-66c2-42f9-b074-3570cf1ac809",
   "metadata": {},
   "outputs": [
    {
     "name": "stdin",
     "output_type": "stream",
     "text": [
      "자연수 하나 입력해주세요. 20\n"
     ]
    }
   ],
   "source": [
    "int_value = int(input(\"자연수 하나 입력해주세요.\"))\n",
    "\n",
    "result  =  int_value - 50\n",
    "\n",
    "if result <0:\n",
    "    result = 0"
   ]
  },
  {
   "cell_type": "code",
   "execution_count": 114,
   "id": "cf6bc3dd-da0f-403c-bb83-2859f6ee0f7c",
   "metadata": {},
   "outputs": [
    {
     "name": "stdin",
     "output_type": "stream",
     "text": [
      "자연수 하나를 입력해주세요:  4\n"
     ]
    },
    {
     "name": "stdout",
     "output_type": "stream",
     "text": [
      "짝수입니다.\n"
     ]
    }
   ],
   "source": [
    "c = int(input(\"자연수 하나를 입력해주세요: \"))\n",
    "\n",
    "if c % 2 == 0:\n",
    "    print(\"짝수입니다.\")\n",
    "    \n",
    "else:\n",
    "    print(\"홀수입니다.\")\n"
   ]
  },
  {
   "cell_type": "code",
   "execution_count": 127,
   "id": "ff1cdfe3-c742-4739-b3d1-ac8a9c75f98c",
   "metadata": {},
   "outputs": [
    {
     "name": "stdin",
     "output_type": "stream",
     "text": [
      "소프트웨어 설계 점수를 입력하세요. -7\n",
      "소프트웨어 개발 점수를 입력하세요. 50\n",
      "데이터베이스 구축 점수를 입력하세요. 40\n",
      "프로그래밍 언어 활용 점수를 입력하세요. 60\n",
      "정보시스템 구축관리 점수를 입력하세요. 30\n"
     ]
    },
    {
     "name": "stdout",
     "output_type": "stream",
     "text": [
      "불합격\n"
     ]
    }
   ],
   "source": [
    "# 다시확인\n",
    "\n",
    "value1 = int(input(\"소프트웨어 설계 점수를 입력하세요.\"))\n",
    "value2 = int(input(\"소프트웨어 개발 점수를 입력하세요.\"))\n",
    "value3 = int(input(\"데이터베이스 구축 점수를 입력하세요.\"))\n",
    "value4 = int(input(\"프로그래밍 언어 활용 점수를 입력하세요.\"))\n",
    "value5 = int(input(\"정보시스템 구축관리 점수를 입력하세요.\"))\n",
    "\n",
    "if (0 <= value1 <= 100 and 0 <= value2 <= 100 and 0 <= value2 <= 100 and 0 <= value3 <= 100 and 0 <= value4 <= 100 and 0 <= value5 <= 100):\n",
    "    avg = (value1 + value2 + value3 + value4 + value5) / 5\n",
    "    print(\"합격\")\n",
    "else:\n",
    "    print(\"불합격\")\n",
    "else:\n",
    "    print(\"잘못된 점수입니다.\")\n",
    "\n",
    "\n"
   ]
  },
  {
   "cell_type": "code",
   "execution_count": 131,
   "id": "91938c2b-ad5b-4166-9264-c4fd0c3f63b3",
   "metadata": {},
   "outputs": [
    {
     "name": "stdin",
     "output_type": "stream",
     "text": [
      "현재 물의 온도를 입력해주세요. -0.12\n"
     ]
    },
    {
     "name": "stdout",
     "output_type": "stream",
     "text": [
      "고체로 예상됩니다.\n"
     ]
    }
   ],
   "source": [
    "temp = float(input(\"현재 물의 온도를 입력해주세요.\"))\n",
    "\n",
    "if temp >= 100:\n",
    "    print(\"기체로 예상됩니다.\")\n",
    "elif 0 <= temp < 100:\n",
    "    print(\"액체로 예상됩니다.\")\n",
    "elif temp < 0:\n",
    "    print(\"고체로 예상됩니다.\")\n"
   ]
  },
  {
   "cell_type": "code",
   "execution_count": 135,
   "id": "cfd9e728-9a36-4a49-b7f2-1e64369cc205",
   "metadata": {},
   "outputs": [
    {
     "name": "stdin",
     "output_type": "stream",
     "text": [
      "자신의 나이를 입력하세요:  8\n"
     ]
    },
    {
     "name": "stdout",
     "output_type": "stream",
     "text": [
      "800원\n"
     ]
    }
   ],
   "source": [
    "x = int(input(\"자신의 나이를 입력하세요: \"))\n",
    "\n",
    "if x >= 19:\n",
    "    print(\"1500원\")\n",
    "elif 12 <= x <= 18:\n",
    "    print(\"1100원\")\n",
    "elif 6 <= x <= 11:\n",
    "    print(\"800원\")\n",
    "else:\n",
    "    print(\"무임승차입니다.\")"
   ]
  },
  {
   "cell_type": "code",
   "execution_count": 143,
   "id": "cec27bcd-8fd7-4be6-9681-fba700ac23c8",
   "metadata": {},
   "outputs": [
    {
     "name": "stdin",
     "output_type": "stream",
     "text": [
      "발주 수량을 입력하세요: 2001\n"
     ]
    },
    {
     "name": "stdout",
     "output_type": "stream",
     "text": [
      "2001 개를 주문하셨습니다.\n",
      "적용 할인율은 20% 입니다.\n",
      "총 발주 금액은 $ 16008 입니다.\n"
     ]
    }
   ],
   "source": [
    "q = int(input(\"발주 수량을 입력하세요:\"))\n",
    "print(q ,\"개를 주문하셨습니다.\")\n",
    "\n",
    "if 1000 <= q <= 1500:\n",
    "    print(\"적용 할인율은 5% 입니다.\")\n",
    "    print(\"총 발주 금액은\", \"$\", int(q * 10 - (q * 10 * 0.05)), \"입니다.\")\n",
    "elif 1500 < q <= 2000:\n",
    "    print(\"적용 할인율은 10% 입니다.\")\n",
    "    print(\"총 발주 금액은\", \"$\", int(q * 10 - (q * 10 * 0.1)), \"입니다.\")\n",
    "elif 2000 < q:\n",
    "    print(\"적용 할인율은 20% 입니다.\")\n",
    "    print(\"총 발주 금액은\", \"$\", int(q * 10 - (q * 10 * 0.2)), \"입니다.\")"
   ]
  },
  {
   "cell_type": "code",
   "execution_count": 144,
   "id": "7d75270f-4830-4755-994a-21442a8d22d5",
   "metadata": {},
   "outputs": [
    {
     "name": "stdin",
     "output_type": "stream",
     "text": [
      "발주 수량을 입력하세요: 2001\n"
     ]
    },
    {
     "name": "stdout",
     "output_type": "stream",
     "text": [
      "2001개를 주문하셨습니다.\n"
     ]
    }
   ],
   "source": [
    "# 다시 확인\n",
    "quantity = int(input(\"발주 수량을 입력하세요:\"))\n",
    "print(quantity, \"개를 주문하셨습니다.\", sep=\"\")\n",
    "\n",
    "PRICE = 10\n",
    "rate = 0\n",
    "order_amount = 0\n",
    "\n",
    "if quantity > 2000:\n",
    "    rate = 20\n",
    "elif 2000 >= quantity > 1500:\n",
    "    rate = 10\n",
    "elif 1500 >= quantity >= 1000:\n",
    "    rate = 5\n",
    "    "
   ]
  },
  {
   "cell_type": "code",
   "execution_count": 151,
   "id": "6058da3d-410e-4e21-a2e8-4fdb24ad1a89",
   "metadata": {},
   "outputs": [
    {
     "name": "stdin",
     "output_type": "stream",
     "text": [
      "주민번호 뒷자리를 입력하세요:  2345677\n"
     ]
    },
    {
     "name": "stdout",
     "output_type": "stream",
     "text": [
      "남자\n"
     ]
    }
   ],
   "source": [
    "# 다시풀기\n",
    "i = input(\"주민번호 뒷자리를 입력하세요: \")\n",
    "if 7 < len(i):\n",
    "    print(\"자리수를 잘못 입력했습니다.\")\n",
    "elif i[0] == \"1\" or \"3\":\n",
    "    print(\"남자\")\n",
    "elif i[0] == \"2\" or \"4\":\n",
    "    print(\"여자\")"
   ]
  },
  {
   "cell_type": "code",
   "execution_count": 162,
   "id": "250e0a7f-9bea-4baa-9d90-c35d8e0d0326",
   "metadata": {},
   "outputs": [
    {
     "name": "stdin",
     "output_type": "stream",
     "text": [
      "확인할 연도를 입력하세요: 1900\n"
     ]
    },
    {
     "name": "stdout",
     "output_type": "stream",
     "text": [
      "평년\n"
     ]
    }
   ],
   "source": [
    "y = int(input(\"확인할 연도를 입력하세요:\"))\n",
    "\n",
    "if y % 100 == 0 and y % 400 != 0 or y % 4 != 0:\n",
    "    print(\"평년\")\n",
    "else:\n",
    "    print(\"윤년\")"
   ]
  },
  {
   "cell_type": "code",
   "execution_count": 170,
   "id": "03fea6e5-0808-411f-b286-74de3c80c13d",
   "metadata": {},
   "outputs": [
    {
     "data": {
      "text/plain": [
       "[0, 1, 2, 3, 4, 5, 6, 7]"
      ]
     },
     "execution_count": 170,
     "metadata": {},
     "output_type": "execute_result"
    }
   ],
   "source": [
    "# for 문\n",
    "# 함수를 호출할 때 소괄호를 사용한다.\n",
    "# 인수(arguments)가 여럿일 때 콤마로 구분한다.\n",
    "# range(시작하는숫자(포함)=0, 끝숫자(미포함), 증감=1)\n",
    "# range는 규칙된 숫자를 만드는데 특화되어 있다.\n",
    "\n",
    "list(range(8))\n",
    "list(range(8))"
   ]
  },
  {
   "cell_type": "code",
   "execution_count": 169,
   "id": "63c9032c-3827-4317-8fd7-6079775a0da9",
   "metadata": {},
   "outputs": [
    {
     "data": {
      "text/plain": [
       "[0, 1, 2, 3, 4, 5, 6, 7]"
      ]
     },
     "execution_count": 169,
     "metadata": {},
     "output_type": "execute_result"
    }
   ],
   "source": [
    "list(range(0,8,1))"
   ]
  },
  {
   "cell_type": "code",
   "execution_count": 171,
   "id": "34630e2d-c940-499a-804b-e210053c5073",
   "metadata": {},
   "outputs": [
    {
     "data": {
      "text/plain": [
       "range"
      ]
     },
     "execution_count": 171,
     "metadata": {},
     "output_type": "execute_result"
    }
   ],
   "source": [
    "type(range(1))"
   ]
  },
  {
   "cell_type": "code",
   "execution_count": 173,
   "id": "c3088a86-75ba-419a-bbce-194168eb3140",
   "metadata": {},
   "outputs": [],
   "source": [
    "# list 와 range가 동작하는 큰 차이점\n",
    "# list는 메모리상에 미리 만들어 놓아야함/ range는 미리 만들필요는 없이 필요할 때 만들어서 효율적"
   ]
  },
  {
   "cell_type": "code",
   "execution_count": 176,
   "id": "372f8b35-ea91-416e-a0c4-40b880f4ce2e",
   "metadata": {},
   "outputs": [
    {
     "name": "stdout",
     "output_type": "stream",
     "text": [
      "Hello world\n",
      "Hello world\n",
      "Hello world\n",
      "Hello world\n",
      "Hello world\n",
      "Hello world\n",
      "Hello world\n",
      "Hello world\n",
      "Hello world\n",
      "Hello world\n"
     ]
    }
   ],
   "source": [
    "for n in range(10):\n",
    "    print(\"Hello world\")"
   ]
  },
  {
   "cell_type": "code",
   "execution_count": null,
   "id": "1774e924-cec3-4566-afba-e2a3ebbf0b41",
   "metadata": {},
   "outputs": [],
   "source": []
  }
 ],
 "metadata": {
  "kernelspec": {
   "display_name": "Python 3 (ipykernel)",
   "language": "python",
   "name": "python3"
  },
  "language_info": {
   "codemirror_mode": {
    "name": "ipython",
    "version": 3
   },
   "file_extension": ".py",
   "mimetype": "text/x-python",
   "name": "python",
   "nbconvert_exporter": "python",
   "pygments_lexer": "ipython3",
   "version": "3.9.13"
  }
 },
 "nbformat": 4,
 "nbformat_minor": 5
}
