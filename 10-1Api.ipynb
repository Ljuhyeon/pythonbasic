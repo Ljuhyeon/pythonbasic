{
 "cells": [
  {
   "cell_type": "code",
   "execution_count": 1,
   "id": "1a6c5ee8-8a67-4985-b7a7-1a880e66986a",
   "metadata": {},
   "outputs": [],
   "source": [
    "import requests\n",
    "\n",
    "response = requests.get('http://apis.data.go.kr/3450000/naMovementOrgService/getNaMovementOrg',\n",
    "                       params={'serviceKey' : 'Xr8lWkYKCl8Cc5n5rfc6XUhXbIW0nsuwR/SjwrucjY2173kD91kNTCx+PNYcqbI49Qn7BNuZN3uwU78EvOJ4lQ==',\n",
    "                              'currentPage' : '1',\n",
    "                              'perPage' : '10',\n",
    "                              'GRP_NM' : '대구북구새마을회'}\n",
    "                       )"
   ]
  },
  {
   "cell_type": "code",
   "execution_count": 2,
   "id": "e262e368-5d13-4859-ba0a-667f843f887f",
   "metadata": {},
   "outputs": [
    {
     "name": "stdout",
     "output_type": "stream",
     "text": [
      "200\n"
     ]
    }
   ],
   "source": [
    "print(response.status_code)"
   ]
  },
  {
   "cell_type": "code",
   "execution_count": 3,
   "id": "5b0c43de-e2a6-47d7-b657-fe4280cc219a",
   "metadata": {},
   "outputs": [
    {
     "name": "stdout",
     "output_type": "stream",
     "text": [
      "b'{\"body\":[{\"GRP_NM\":\"\\xeb\\x8c\\x80\\xea\\xb5\\xac\\xeb\\xb6\\x81\\xea\\xb5\\xac\\xec\\x83\\x88\\xeb\\xa7\\x88\\xec\\x9d\\x84\\xed\\x9a\\x8c\",\"LOCPLC\":\"\\xeb\\x8c\\x80\\xea\\xb5\\xac\\xea\\xb4\\x91\\xec\\x97\\xad\\xec\\x8b\\x9c \\xeb\\xb6\\x81\\xea\\xb5\\xac \\xec\\x9b\\x90\\xeb\\x8c\\x80\\xeb\\xa1\\x9c 50\",\"OFFM_TELNO\":\"053-352-1622\",\"BSNS_GOAL\":\"\\xec\\x83\\x81\\xec\\x83\\x9d\\xea\\xb3\\xbc \\xed\\x98\\x91\\xeb\\xa0\\xa5\\xec\\x9c\\xbc\\xeb\\xa1\\x9c \\xeb\\xa7\\x8c\\xeb\\x93\\xa4\\xec\\x96\\xb4\\xea\\xb0\\x80\\xeb\\x8a\\x94 \\'\\xed\\x95\\xa8\\xea\\xbb\\x98 \\xec\\x9e\\x98\\xec\\x82\\xac\\xeb\\x8a\\x94 \\xea\\xb3\\xb5\\xeb\\x8f\\x99\\xec\\xb2\\xb4\",\"INTNET_SITE\":\"https://www.saemaul.or.kr/index.php\"}],\"header\":{\"perPage\":10,\"resultCode\":\"00\",\"totalRows\":1,\"currentPage\":1,\"resultMsg\":\"NORMAL_SERVICE\"}}'\n"
     ]
    },
    {
     "data": {
      "text/plain": [
       "{'body': [{'GRP_NM': '대구북구새마을회',\n",
       "   'LOCPLC': '대구광역시 북구 원대로 50',\n",
       "   'OFFM_TELNO': '053-352-1622',\n",
       "   'BSNS_GOAL': \"상생과 협력으로 만들어가는 '함께 잘사는 공동체\",\n",
       "   'INTNET_SITE': 'https://www.saemaul.or.kr/index.php'}],\n",
       " 'header': {'perPage': 10,\n",
       "  'resultCode': '00',\n",
       "  'totalRows': 1,\n",
       "  'currentPage': 1,\n",
       "  'resultMsg': 'NORMAL_SERVICE'}}"
      ]
     },
     "execution_count": 3,
     "metadata": {},
     "output_type": "execute_result"
    }
   ],
   "source": [
    "print(response.content)\n",
    "response.json()"
   ]
  },
  {
   "cell_type": "code",
   "execution_count": 5,
   "id": "26276e15-3334-453b-9534-1bed9d84ac2a",
   "metadata": {},
   "outputs": [
    {
     "name": "stdout",
     "output_type": "stream",
     "text": [
      "2\n"
     ]
    }
   ],
   "source": [
    "print(len(response.json()))"
   ]
  },
  {
   "cell_type": "code",
   "execution_count": 6,
   "id": "9fba76aa-a19c-4547-84bd-49b5df619272",
   "metadata": {},
   "outputs": [
    {
     "name": "stdout",
     "output_type": "stream",
     "text": [
      "<bound method Response.json of <Response [200]>>\n"
     ]
    }
   ],
   "source": [
    "print(response.json)"
   ]
  },
  {
   "cell_type": "code",
   "execution_count": 7,
   "id": "7b86dd48-f0d0-4d79-8ec4-ed4c52f55fc4",
   "metadata": {},
   "outputs": [
    {
     "data": {
      "text/plain": [
       "{'GRP_NM': '대구북구새마을회',\n",
       " 'LOCPLC': '대구광역시 북구 원대로 50',\n",
       " 'OFFM_TELNO': '053-352-1622',\n",
       " 'BSNS_GOAL': \"상생과 협력으로 만들어가는 '함께 잘사는 공동체\",\n",
       " 'INTNET_SITE': 'https://www.saemaul.or.kr/index.php'}"
      ]
     },
     "execution_count": 7,
     "metadata": {},
     "output_type": "execute_result"
    }
   ],
   "source": [
    "response.json()['body'][0]"
   ]
  },
  {
   "cell_type": "code",
   "execution_count": 8,
   "id": "2ded5188-a791-4b15-8e22-02d2e0c38518",
   "metadata": {},
   "outputs": [
    {
     "data": {
      "text/plain": [
       "{'Set-Cookie': 'JSESSIONID=28E59408C7855210E516F5B040DB5DA4; Path=/3450000/naMovementOrgService; Secure; HttpOnly; Domain=apis.data.go.kr', 'X-FRAME-OPTIONS': 'SAMEORIGIN', 'X-CONTENT-TYPE-OPTIONS': 'nosniff', 'X-XSS-Protection': '1;mode=block', 'Content-Security-Policy': \"script-src 'self' 'unsafe-eval' 'unsafe-inline' ; script-src-elem 'self' 'unsafe-inline' https://*; img-src 'self' data:; style-src 'self' 'unsafe-inline' https://* ; connect-src 'self'; child-src 'unsafe-inline'; object-src 'self'\", 'Cache-Control': 'no-store', 'Content-Language': 'ko-KR', 'Access-Control-Allow-Origin': '*', 'Content-Encoding': 'gzip', 'Content-Type': 'application/json;charset=UTF-8', 'Content-Length': '341', 'Date': 'Fri, 03 Mar 2023 08:31:31 GMT', 'Server': 'NIA API Server'}"
      ]
     },
     "execution_count": 8,
     "metadata": {},
     "output_type": "execute_result"
    }
   ],
   "source": [
    "response.headers"
   ]
  },
  {
   "cell_type": "code",
   "execution_count": 9,
   "id": "93d7841a-1813-41d3-825d-24bff76d5f06",
   "metadata": {},
   "outputs": [
    {
     "data": {
      "text/plain": [
       "'application/json;charset=UTF-8'"
      ]
     },
     "execution_count": 9,
     "metadata": {},
     "output_type": "execute_result"
    }
   ],
   "source": [
    "response.headers['Content-Type']"
   ]
  },
  {
   "cell_type": "code",
   "execution_count": 10,
   "id": "80aa4d51-c1b8-4ecc-951b-6b0add1cd613",
   "metadata": {},
   "outputs": [
    {
     "data": {
      "text/plain": [
       "dict_keys(['body', 'header'])"
      ]
     },
     "execution_count": 10,
     "metadata": {},
     "output_type": "execute_result"
    }
   ],
   "source": [
    "response.json().keys()"
   ]
  },
  {
   "cell_type": "code",
   "execution_count": 11,
   "id": "3e1d7530-c98f-4ba4-ba55-29a221b3cdc6",
   "metadata": {},
   "outputs": [
    {
     "data": {
      "text/plain": [
       "5"
      ]
     },
     "execution_count": 11,
     "metadata": {},
     "output_type": "execute_result"
    }
   ],
   "source": [
    "len(response.json()['header'])"
   ]
  },
  {
   "cell_type": "code",
   "execution_count": null,
   "id": "4ffda1a4-5d95-49e4-a814-a4a2c035e76b",
   "metadata": {},
   "outputs": [],
   "source": []
  },
  {
   "cell_type": "code",
   "execution_count": null,
   "id": "d67c5e5d-cbbc-4818-978b-cdc6af10d36b",
   "metadata": {},
   "outputs": [],
   "source": []
  }
 ],
 "metadata": {
  "kernelspec": {
   "display_name": "Python 3 (ipykernel)",
   "language": "python",
   "name": "python3"
  },
  "language_info": {
   "codemirror_mode": {
    "name": "ipython",
    "version": 3
   },
   "file_extension": ".py",
   "mimetype": "text/x-python",
   "name": "python",
   "nbconvert_exporter": "python",
   "pygments_lexer": "ipython3",
   "version": "3.9.13"
  }
 },
 "nbformat": 4,
 "nbformat_minor": 5
}
