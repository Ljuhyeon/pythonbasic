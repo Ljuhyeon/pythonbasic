{
 "cells": [
  {
   "cell_type": "code",
   "execution_count": 1,
   "id": "1a6c5ee8-8a67-4985-b7a7-1a880e66986a",
   "metadata": {},
   "outputs": [],
   "source": [
    "import requests\n",
    "\n",
    "response = requests.get('http://apis.data.go.kr/3450000/naMovementOrgService/getNaMovementOrg',\n",
    "                       params={'serviceKey' : 'Xr8lWkYKCl8Cc5n5rfc6XUhXbIW0nsuwR/SjwrucjY2173kD91kNTCx+PNYcqbI49Qn7BNuZN3uwU78EvOJ4lQ==',\n",
    "                              'currentPage' : '1',\n",
    "                              'perPage' : '10',\n",
    "                              'GRP_NM' : '대구북구새마을회'}\n",
    "                       )"
   ]
  },
  {
   "cell_type": "code",
   "execution_count": 2,
   "id": "e262e368-5d13-4859-ba0a-667f843f887f",
   "metadata": {},
   "outputs": [
    {
     "name": "stdout",
     "output_type": "stream",
     "text": [
      "200\n"
     ]
    }
   ],
   "source": [
    "print(response.status_code)"
   ]
  },
  {
   "cell_type": "code",
   "execution_count": 3,
   "id": "5b0c43de-e2a6-47d7-b657-fe4280cc219a",
   "metadata": {},
   "outputs": [
    {
     "name": "stdout",
     "output_type": "stream",
     "text": [
      "b'{\"body\":[{\"spm_row\":1,\"GRP_NM\":\"\\xeb\\x8c\\x80\\xea\\xb5\\xac\\xeb\\xb6\\x81\\xea\\xb5\\xac\\xec\\x83\\x88\\xeb\\xa7\\x88\\xec\\x9d\\x84\\xed\\x9a\\x8c\",\"LOCPLC\":\"\\xeb\\x8c\\x80\\xea\\xb5\\xac\\xea\\xb4\\x91\\xec\\x97\\xad\\xec\\x8b\\x9c \\xeb\\xb6\\x81\\xea\\xb5\\xac \\xec\\x9b\\x90\\xeb\\x8c\\x80\\xeb\\xa1\\x9c 50\",\"OFFM_TELNO\":\"053-352-1622\",\"BSNS_GOAL\":\"\\xec\\x83\\x81\\xec\\x83\\x9d\\xea\\xb3\\xbc \\xed\\x98\\x91\\xeb\\xa0\\xa5\\xec\\x9c\\xbc\\xeb\\xa1\\x9c \\xeb\\xa7\\x8c\\xeb\\x93\\xa4\\xec\\x96\\xb4\\xea\\xb0\\x80\\xeb\\x8a\\x94 \\'\\xed\\x95\\xa8\\xea\\xbb\\x98 \\xec\\x9e\\x98\\xec\\x82\\xac\\xeb\\x8a\\x94 \\xea\\xb3\\xb5\\xeb\\x8f\\x99\\xec\\xb2\\xb4\",\"INTNET_SITE\":\"https://www.saemaul.or.kr/index.php\"}],\"header\":{\"perPage\":10,\"resultCode\":\"00\",\"totalRows\":1,\"currentPage\":1,\"resultMsg\":\"NORMAL_SERVICE\"}}'\n"
     ]
    },
    {
     "data": {
      "text/plain": [
       "{'body': [{'spm_row': 1,\n",
       "   'GRP_NM': '대구북구새마을회',\n",
       "   'LOCPLC': '대구광역시 북구 원대로 50',\n",
       "   'OFFM_TELNO': '053-352-1622',\n",
       "   'BSNS_GOAL': \"상생과 협력으로 만들어가는 '함께 잘사는 공동체\",\n",
       "   'INTNET_SITE': 'https://www.saemaul.or.kr/index.php'}],\n",
       " 'header': {'perPage': 10,\n",
       "  'resultCode': '00',\n",
       "  'totalRows': 1,\n",
       "  'currentPage': 1,\n",
       "  'resultMsg': 'NORMAL_SERVICE'}}"
      ]
     },
     "execution_count": 3,
     "metadata": {},
     "output_type": "execute_result"
    }
   ],
   "source": [
    "print(response.content)\n",
    "response.json()"
   ]
  },
  {
   "cell_type": "code",
   "execution_count": 8,
   "id": "93d7841a-1813-41d3-825d-24bff76d5f06",
   "metadata": {},
   "outputs": [
    {
     "data": {
      "text/plain": [
       "'application/json;charset=UTF-8'"
      ]
     },
     "execution_count": 8,
     "metadata": {},
     "output_type": "execute_result"
    }
   ],
   "source": [
    "response.headers['Content-Type']"
   ]
  },
  {
   "cell_type": "code",
   "execution_count": 20,
   "id": "80aa4d51-c1b8-4ecc-951b-6b0add1cd613",
   "metadata": {},
   "outputs": [
    {
     "data": {
      "text/plain": [
       "dict_keys(['body', 'header'])"
      ]
     },
     "execution_count": 20,
     "metadata": {},
     "output_type": "execute_result"
    }
   ],
   "source": [
    "response.json().keys()"
   ]
  },
  {
   "cell_type": "code",
   "execution_count": 14,
   "id": "4ffda1a4-5d95-49e4-a814-a4a2c035e76b",
   "metadata": {},
   "outputs": [
    {
     "data": {
      "text/plain": [
       "{'Cache-Control': 'no-store', 'Content-Language': 'ko-KR', 'Access-Control-Allow-Origin': '*', 'Content-Encoding': 'gzip', 'Content-Type': 'application/json;charset=UTF-8', 'Content-Length': '350', 'Date': 'Tue, 07 Mar 2023 07:42:10 GMT', 'Server': 'NIA API Server'}"
      ]
     },
     "execution_count": 14,
     "metadata": {},
     "output_type": "execute_result"
    }
   ],
   "source": [
    "response.headers"
   ]
  },
  {
   "cell_type": "code",
   "execution_count": 15,
   "id": "d67c5e5d-cbbc-4818-978b-cdc6af10d36b",
   "metadata": {},
   "outputs": [
    {
     "data": {
      "text/plain": [
       "'UTF-8'"
      ]
     },
     "execution_count": 15,
     "metadata": {},
     "output_type": "execute_result"
    }
   ],
   "source": [
    "response.encoding"
   ]
  },
  {
   "cell_type": "code",
   "execution_count": 16,
   "id": "f494c7a6-3948-41f1-89ae-6d31537e802a",
   "metadata": {},
   "outputs": [],
   "source": [
    "import json"
   ]
  },
  {
   "cell_type": "code",
   "execution_count": 30,
   "id": "ae300a4c-3a2f-40e8-8722-48b5e651624d",
   "metadata": {},
   "outputs": [],
   "source": [
    "a = response.json()"
   ]
  },
  {
   "cell_type": "code",
   "execution_count": 35,
   "id": "6206e680-9629-4aa7-bde4-052c4256f5eb",
   "metadata": {
    "tags": []
   },
   "outputs": [
    {
     "data": {
      "text/plain": [
       "[{'spm_row': 1,\n",
       "  'GRP_NM': '대구북구새마을회',\n",
       "  'LOCPLC': '대구광역시 북구 원대로 50',\n",
       "  'OFFM_TELNO': '053-352-1622',\n",
       "  'BSNS_GOAL': \"상생과 협력으로 만들어가는 '함께 잘사는 공동체\",\n",
       "  'INTNET_SITE': 'https://www.saemaul.or.kr/index.php'}]"
      ]
     },
     "execution_count": 35,
     "metadata": {},
     "output_type": "execute_result"
    }
   ],
   "source": [
    "a['body']"
   ]
  },
  {
   "cell_type": "code",
   "execution_count": 40,
   "id": "eee52cab-d30b-4f5c-b62b-7011aaa8af23",
   "metadata": {
    "tags": []
   },
   "outputs": [
    {
     "data": {
      "text/html": [
       "<div>\n",
       "<style scoped>\n",
       "    .dataframe tbody tr th:only-of-type {\n",
       "        vertical-align: middle;\n",
       "    }\n",
       "\n",
       "    .dataframe tbody tr th {\n",
       "        vertical-align: top;\n",
       "    }\n",
       "\n",
       "    .dataframe thead th {\n",
       "        text-align: right;\n",
       "    }\n",
       "</style>\n",
       "<table border=\"1\" class=\"dataframe\">\n",
       "  <thead>\n",
       "    <tr style=\"text-align: right;\">\n",
       "      <th></th>\n",
       "      <th>spm_row</th>\n",
       "      <th>GRP_NM</th>\n",
       "      <th>LOCPLC</th>\n",
       "      <th>OFFM_TELNO</th>\n",
       "      <th>BSNS_GOAL</th>\n",
       "      <th>INTNET_SITE</th>\n",
       "    </tr>\n",
       "  </thead>\n",
       "  <tbody>\n",
       "    <tr>\n",
       "      <th>0</th>\n",
       "      <td>1</td>\n",
       "      <td>대구북구새마을회</td>\n",
       "      <td>대구광역시 북구 원대로 50</td>\n",
       "      <td>053-352-1622</td>\n",
       "      <td>상생과 협력으로 만들어가는 '함께 잘사는 공동체</td>\n",
       "      <td>https://www.saemaul.or.kr/index.php</td>\n",
       "    </tr>\n",
       "  </tbody>\n",
       "</table>\n",
       "</div>"
      ],
      "text/plain": [
       "   spm_row    GRP_NM           LOCPLC    OFFM_TELNO  \\\n",
       "0        1  대구북구새마을회  대구광역시 북구 원대로 50  053-352-1622   \n",
       "\n",
       "                    BSNS_GOAL                          INTNET_SITE  \n",
       "0  상생과 협력으로 만들어가는 '함께 잘사는 공동체  https://www.saemaul.or.kr/index.php  "
      ]
     },
     "execution_count": 40,
     "metadata": {},
     "output_type": "execute_result"
    }
   ],
   "source": [
    "import pandas as pd\n",
    "df = pd.DataFrame(a['body'])\n",
    "df"
   ]
  },
  {
   "cell_type": "code",
   "execution_count": 41,
   "id": "b3bd01aa-7a7f-47eb-bb1f-6f3407a12984",
   "metadata": {},
   "outputs": [],
   "source": [
    "df.to_csv(\"datas/saemaul.csv\")"
   ]
  },
  {
   "cell_type": "code",
   "execution_count": 43,
   "id": "5943ad5e-f050-450b-9a1e-744de7844157",
   "metadata": {
    "tags": []
   },
   "outputs": [
    {
     "data": {
      "text/html": [
       "<div>\n",
       "<style scoped>\n",
       "    .dataframe tbody tr th:only-of-type {\n",
       "        vertical-align: middle;\n",
       "    }\n",
       "\n",
       "    .dataframe tbody tr th {\n",
       "        vertical-align: top;\n",
       "    }\n",
       "\n",
       "    .dataframe thead th {\n",
       "        text-align: right;\n",
       "    }\n",
       "</style>\n",
       "<table border=\"1\" class=\"dataframe\">\n",
       "  <thead>\n",
       "    <tr style=\"text-align: right;\">\n",
       "      <th></th>\n",
       "      <th>Unnamed: 0</th>\n",
       "      <th>spm_row</th>\n",
       "      <th>GRP_NM</th>\n",
       "      <th>LOCPLC</th>\n",
       "      <th>OFFM_TELNO</th>\n",
       "      <th>BSNS_GOAL</th>\n",
       "      <th>INTNET_SITE</th>\n",
       "    </tr>\n",
       "  </thead>\n",
       "  <tbody>\n",
       "    <tr>\n",
       "      <th>0</th>\n",
       "      <td>0</td>\n",
       "      <td>1</td>\n",
       "      <td>대구북구새마을회</td>\n",
       "      <td>대구광역시 북구 원대로 50</td>\n",
       "      <td>053-352-1622</td>\n",
       "      <td>상생과 협력으로 만들어가는 '함께 잘사는 공동체</td>\n",
       "      <td>https://www.saemaul.or.kr/index.php</td>\n",
       "    </tr>\n",
       "  </tbody>\n",
       "</table>\n",
       "</div>"
      ],
      "text/plain": [
       "   Unnamed: 0  spm_row    GRP_NM           LOCPLC    OFFM_TELNO  \\\n",
       "0           0        1  대구북구새마을회  대구광역시 북구 원대로 50  053-352-1622   \n",
       "\n",
       "                    BSNS_GOAL                          INTNET_SITE  \n",
       "0  상생과 협력으로 만들어가는 '함께 잘사는 공동체  https://www.saemaul.or.kr/index.php  "
      ]
     },
     "execution_count": 43,
     "metadata": {},
     "output_type": "execute_result"
    }
   ],
   "source": [
    "pd.read_csv(\"datas/saemaul.csv\")"
   ]
  },
  {
   "cell_type": "code",
   "execution_count": 44,
   "id": "5d7408c9-3b53-4842-83e2-be5e711c233a",
   "metadata": {},
   "outputs": [
    {
     "data": {
      "text/plain": [
       "{'perPage': 10,\n",
       " 'resultCode': '00',\n",
       " 'totalRows': 1,\n",
       " 'currentPage': 1,\n",
       " 'resultMsg': 'NORMAL_SERVICE'}"
      ]
     },
     "execution_count": 44,
     "metadata": {},
     "output_type": "execute_result"
    }
   ],
   "source": [
    "a['header']"
   ]
  },
  {
   "cell_type": "code",
   "execution_count": 46,
   "id": "95cb3ac6-572a-404b-9184-9b0f45a72113",
   "metadata": {},
   "outputs": [
    {
     "data": {
      "text/plain": [
       "10"
      ]
     },
     "execution_count": 46,
     "metadata": {},
     "output_type": "execute_result"
    }
   ],
   "source": [
    "a['header']['perPage']"
   ]
  },
  {
   "cell_type": "code",
   "execution_count": null,
   "id": "4d5fbfe7-cb51-4ea1-81d9-74077d8d5947",
   "metadata": {},
   "outputs": [],
   "source": []
  }
 ],
 "metadata": {
  "kernelspec": {
   "display_name": "Python 3 (ipykernel)",
   "language": "python",
   "name": "python3"
  },
  "language_info": {
   "codemirror_mode": {
    "name": "ipython",
    "version": 3
   },
   "file_extension": ".py",
   "mimetype": "text/x-python",
   "name": "python",
   "nbconvert_exporter": "python",
   "pygments_lexer": "ipython3",
   "version": "3.9.13"
  }
 },
 "nbformat": 4,
 "nbformat_minor": 5
}
