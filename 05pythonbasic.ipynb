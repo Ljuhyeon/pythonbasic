{
 "cells": [
  {
   "cell_type": "code",
   "execution_count": 1,
   "id": "90065b37-2084-4cc6-a119-dfaa345967b4",
   "metadata": {},
   "outputs": [],
   "source": [
    "#제어흐름(for), range() 함수, 루프"
   ]
  },
  {
   "cell_type": "code",
   "execution_count": 2,
   "id": "be70c1a7-5857-4f78-9693-d9e5907d0292",
   "metadata": {},
   "outputs": [
    {
     "data": {
      "text/plain": [
       "[0, 1, 2, 3, 4, 5, 6, 7]"
      ]
     },
     "execution_count": 2,
     "metadata": {},
     "output_type": "execute_result"
    }
   ],
   "source": [
    "# range() 함수\n",
    "# range는 연속되는 숫자 요소들을 만들 때 활용하면 좋다.\n",
    "# range변수 = rane(시작, 끝, 증감크기) -> 슬라이싱 구조와 비슷\n",
    "# 시퀀스자료형변수[시작:끝:증감크기] -> 슬라이싱 구조\n",
    "# 시퀀스로 이터레이트할 때 사용하면 편리하다 \n",
    "\n",
    "list(range(8))"
   ]
  },
  {
   "cell_type": "code",
   "execution_count": 5,
   "id": "1ce178c0-6a27-48c6-8c2c-1cf042e578a9",
   "metadata": {},
   "outputs": [
    {
     "name": "stdout",
     "output_type": "stream",
     "text": [
      "[2, 4, 6, 8, 10, 12, 14, 16, 18, 20, 22, 24, 26, 28, 30, 32, 34, 36, 38, 40, 42, 44, 46, 48, 50, 52, 54, 56, 58, 60, 62, 64, 66, 68, 70, 72, 74, 76, 78, 80, 82, 84, 86, 88, 90, 92, 94, 96, 98]\n"
     ]
    }
   ],
   "source": [
    "even_numbers = list(range(2, 100, 2))\n",
    "print(even_numbers)"
   ]
  },
  {
   "cell_type": "code",
   "execution_count": 7,
   "id": "23005608-6e18-44aa-9b5b-98040fd9d1b3",
   "metadata": {},
   "outputs": [
    {
     "data": {
      "text/plain": [
       "range"
      ]
     },
     "execution_count": 7,
     "metadata": {},
     "output_type": "execute_result"
    }
   ],
   "source": [
    "type(range(0))"
   ]
  },
  {
   "cell_type": "code",
   "execution_count": 11,
   "id": "e52c4a48-a39c-470e-91df-69c4bb6ade2c",
   "metadata": {},
   "outputs": [
    {
     "name": "stdout",
     "output_type": "stream",
     "text": [
      "[2, 4, 6, 8]\n"
     ]
    }
   ],
   "source": [
    "a = list(range(2, 10, 2))\n",
    "print(a)"
   ]
  },
  {
   "cell_type": "code",
   "execution_count": 12,
   "id": "00850f02-48f5-446a-9d49-23cf58e39139",
   "metadata": {},
   "outputs": [],
   "source": [
    "# range 객체는 iterate할 때 원하는 시퀀스 항목들을 그때그때 만들어 순서대로 요소를 돌려주는 객체"
   ]
  },
  {
   "cell_type": "code",
   "execution_count": 13,
   "id": "969c9044-5749-4e63-8932-3ebb2283f4e5",
   "metadata": {},
   "outputs": [],
   "source": [
    "# for문 -> 파이썬의 for문은 시퀀스 자료형의 항목들을 순서대로 요소를 하나씩 꺼낸다.\n",
    "# 반복되는 부분을 만들 때 활용하면 좋다.\n",
    "# 혹은 iterable(객체)를 루핑할 때 좋다.\n",
    "# 반복 횟수가 정해져 있을 때 주로 사용\n",
    "# 파이썬 -> 동적타이핑 / 그 외 다른언어(Java 등) -> 정적타이핑 두 차이의 이해필요."
   ]
  },
  {
   "cell_type": "code",
   "execution_count": 26,
   "id": "1bb3e11d-891d-4c84-af9f-b2d1e88de559",
   "metadata": {},
   "outputs": [],
   "source": [
    "#for i in range(1,101,1):\n",
    "#    print(f\"Hello world{i}\")\n",
    "#print(\"끝\")"
   ]
  },
  {
   "cell_type": "code",
   "execution_count": null,
   "id": "10218db4-32b3-4045-864e-4c89cedce460",
   "metadata": {},
   "outputs": [
    {
     "name": "stdin",
     "output_type": "stream",
     "text": [
      "인사를 몇 번 해드릴까요? 3\n"
     ]
    },
    {
     "name": "stdout",
     "output_type": "stream",
     "text": [
      "Hello world\n",
      "Hello world\n",
      "Hello world\n"
     ]
    }
   ],
   "source": [
    "n = int(input(\"인사를 몇 번 해드릴까요?\"))\n",
    "\n",
    "for f in range(n):\n",
    "    print(\"Hello world\")"
   ]
  },
  {
   "cell_type": "code",
   "execution_count": 32,
   "id": "ff4c1f53-1856-4b4c-b10d-d4821d9e8e50",
   "metadata": {},
   "outputs": [
    {
     "name": "stdin",
     "output_type": "stream",
     "text": [
      "인사를 몇 번 해드릴까여? 3\n"
     ]
    },
    {
     "name": "stdout",
     "output_type": "stream",
     "text": [
      "Hello world  1\n",
      "Hello world  2\n",
      "Hello world  3\n"
     ]
    }
   ],
   "source": [
    "count =  int(input(\"인사를 몇 번 해드릴까여?\"))\n",
    "for _ in range(1, count + 1):\n",
    "    print(\"Hello world \", _)"
   ]
  },
  {
   "cell_type": "code",
   "execution_count": 41,
   "id": "a9732b71-270f-405a-b4ee-c089b6368646",
   "metadata": {},
   "outputs": [
    {
     "name": "stdout",
     "output_type": "stream",
     "text": [
      "[5, 6, 7, 8, 9]\n",
      "[0, 3, 6, 9]\n",
      "[-10, -40, -70]\n"
     ]
    }
   ],
   "source": [
    "print(list(range(5,10,1)))\n",
    "print(list(range(0,10,3)))\n",
    "print(list(range(-10, -80, -30)))"
   ]
  },
  {
   "cell_type": "code",
   "execution_count": 79,
   "id": "32f421d3-b5f7-41c8-9c51-2f84d42e7044",
   "metadata": {},
   "outputs": [
    {
     "name": "stdin",
     "output_type": "stream",
     "text": [
      "자연수 하나 입력해주세요: 6\n"
     ]
    },
    {
     "name": "stdout",
     "output_type": "stream",
     "text": [
      "6\t6\t6\t6\t6\t6\t\n",
      "5\t5\t5\t5\t5\t\n",
      "4\t4\t4\t4\t\n",
      "3\t3\t3\t\n",
      "2\t2\t\n",
      "1\t\n"
     ]
    }
   ],
   "source": [
    "number = int(input(\"자연수 하나 입력해주세요:\"))\n",
    "for o in range(number, 0, -1):\n",
    "    for n in range(o, 0, -1):\n",
    "        print(o, end=\"\\t\")\n",
    "    print()"
   ]
  },
  {
   "cell_type": "code",
   "execution_count": 75,
   "id": "4a54f476-909d-4c95-824e-66ed187fa246",
   "metadata": {},
   "outputs": [
    {
     "name": "stdin",
     "output_type": "stream",
     "text": [
      "자연수 하나 입력해주세요: 6\n"
     ]
    },
    {
     "name": "stdout",
     "output_type": "stream",
     "text": [
      "6\t6\t6\t6\t6\t6\t\n",
      "5\t5\t5\t5\t5\t\n",
      "4\t4\t4\t4\t\n",
      "3\t3\t3\t\n",
      "2\t2\t\n",
      "1\t\n"
     ]
    }
   ],
   "source": [
    "number = int(input(\"자연수 하나 입력해주세요:\"))\n",
    "for o in range(number, 0, -1):\n",
    "    print(f\"{o}\\t\" * o)"
   ]
  },
  {
   "cell_type": "code",
   "execution_count": 98,
   "id": "27e4196d-e014-4a93-b34c-3a617c85d948",
   "metadata": {},
   "outputs": [],
   "source": [
    "# 다시 확인\n",
    "s1 = \"* \" * 10\n",
    "s2 = \"* \" + \" \" * 8 + \"*\"\n"
   ]
  },
  {
   "cell_type": "code",
   "execution_count": 131,
   "id": "1998aa13-d911-4b53-bb02-58a1844a41f8",
   "metadata": {},
   "outputs": [
    {
     "name": "stdin",
     "output_type": "stream",
     "text": [
      "1부터 입력한 자연수까지의 모든 홀수의 합을 구합니다 100\n"
     ]
    },
    {
     "name": "stdout",
     "output_type": "stream",
     "text": [
      "1 + 3 + 5 + 7 + 9 + 11 + 13 + 15 + 17 + 19 + 21 + 23 + 25 + 27 + 29 + 31 + 33 + 35 + 37 + 39 + 41 + 43 + 45 + 47 + 49 + 51 + 53 + 55 + 57 + 59 + 61 + 63 + 65 + 67 + 69 + 71 + 73 + 75 + 77 + 79 + 81 + 83 + 85 + 87 + 89 + 91 + 93 + 95 + 97 + 100 = 2500\n"
     ]
    }
   ],
   "source": [
    "a = int(input(\"1부터 입력한 자연수까지의 모든 홀수의 합을 구합니다\"))\n",
    "result = 0\n",
    "for b in range(1, a, 2):\n",
    "    if (a - 1) == b:\n",
    "        print(i, end=' = ')\n",
    "    else:\n",
    "        print(f\"{b} + \", end=\"\")\n",
    "    result += b\n",
    "print(result)"
   ]
  },
  {
   "cell_type": "code",
   "execution_count": 132,
   "id": "99a0c26a-f295-42f7-92f9-967a6d69cbb0",
   "metadata": {},
   "outputs": [
    {
     "name": "stdin",
     "output_type": "stream",
     "text": [
      "1부터 입력한 자연수까지의 모든 홀수의 합을 구합니다 100\n"
     ]
    },
    {
     "name": "stdout",
     "output_type": "stream",
     "text": [
      "1 + 3 + 5 + 7 + 9 + 11 + 13 + 15 + 17 + 19 + 21 + 23 + 25 + 27 + 29 + 31 + 33 + 35 + 37 + 39 + 41 + 43 + 45 + 47 + 49 + 51 + 53 + 55 + 57 + 59 + 61 + 63 + 65 + 67 + 69 + 71 + 73 + 75 + 77 + 79 + 81 + 83 + 85 + 87 + 89 + 91 + 93 + 95 + 97 + 99 = 2500\n"
     ]
    }
   ],
   "source": [
    "input_value = int(input(\"1부터 입력한 자연수까지의 모든 홀수의 합을 구합니다\"))\n",
    "result = 0\n",
    "\n",
    "for i in range(1, input_value + 1):\n",
    "    if i % 2 == 1:\n",
    "        if (input_value - 1) == i or input_value == i:\n",
    "            print(i, end=' = ')\n",
    "        else:\n",
    "            print(i, end=' + ')\n",
    "        result += i\n",
    "print(result)\n",
    "\n",
    "# 덧셈에서 0을 더하는 연산은 값에 변화를 주지않음, 따라서 "
   ]
  },
  {
   "cell_type": "code",
   "execution_count": 155,
   "id": "2e174b9e-eb3d-48f5-b517-09cd74414459",
   "metadata": {},
   "outputs": [
    {
     "name": "stdin",
     "output_type": "stream",
     "text": [
      "계승을 구할 숫자를 입력하세요. 4\n"
     ]
    },
    {
     "name": "stdout",
     "output_type": "stream",
     "text": [
      "24\n"
     ]
    }
   ],
   "source": [
    "value = int(input(\"계승을 구할 숫자를 입력하세요.\"))\n",
    "result1 = 1\n",
    "\n",
    "for h in range(1, value + 1):\n",
    "    result1 *= h\n",
    "print(result1)"
   ]
  },
  {
   "cell_type": "code",
   "execution_count": 158,
   "id": "ef31af39-3b3b-4c5b-9ce1-dcb13cd883ba",
   "metadata": {},
   "outputs": [
    {
     "name": "stdin",
     "output_type": "stream",
     "text": [
      "계승을 구할 숫자를 입력하세요. 7\n"
     ]
    },
    {
     "name": "stdout",
     "output_type": "stream",
     "text": [
      "5040\n"
     ]
    }
   ],
   "source": [
    "value1 = int(input(\"계승을 구할 숫자를 입력하세요.\"))\n",
    "result2 = 1\n",
    "\n",
    "for f in range(1, value1 + 1):\n",
    "    result2 *= f\n",
    "print(result2)\n",
    "\n",
    "#곱셈에서 1을 곱하는 연산은 값에 변화를 주지 않는다.\n",
    "#따라서 곱셈의 결과를 담는 변수의 최초 선언에 1로 할당하는 것을 확인 할 수있다."
   ]
  },
  {
   "cell_type": "code",
   "execution_count": 160,
   "id": "8dc3d186-efa3-4a54-8f6c-2f1eaa9f43d9",
   "metadata": {},
   "outputs": [
    {
     "name": "stdout",
     "output_type": "stream",
     "text": [
      "시\n",
      "미\n",
      "라\n",
      "레\n",
      "솔\n",
      "도\n",
      "파\n"
     ]
    }
   ],
   "source": [
    "# 시퀀스 객체로 반복하기\n",
    "# 리스트형 \n",
    "\n",
    "for _ in [\"시\", \"미\", \"라\", \"레\", \"솔\", \"도\", \"파\"]:\n",
    "    print(_)"
   ]
  },
  {
   "cell_type": "code",
   "execution_count": 161,
   "id": "183be829-df03-4dee-ba8d-564169f93c71",
   "metadata": {},
   "outputs": [
    {
     "name": "stdout",
     "output_type": "stream",
     "text": [
      "시 미 라 레 솔 도 파 "
     ]
    }
   ],
   "source": [
    "# 튜플형\n",
    "\n",
    "for _ in (\"시\", \"미\", \"라\", \"레\", \"솔\", \"도\", \"파\"):\n",
    "    print(_, end=\" \")"
   ]
  },
  {
   "cell_type": "code",
   "execution_count": 163,
   "id": "ea03d482-cbac-43a7-b1d9-1ccf63b79e89",
   "metadata": {},
   "outputs": [
    {
     "name": "stdout",
     "output_type": "stream",
     "text": [
      "일 이 삼 사 오 육 칠 팔 구 십 "
     ]
    }
   ],
   "source": [
    "for _ in \"일이삼사오육칠팔구십\":\n",
    "    print(_, end=\" \")"
   ]
  },
  {
   "cell_type": "code",
   "execution_count": 166,
   "id": "00e00630-a981-4e6f-bd4d-f59a83ca7208",
   "metadata": {},
   "outputs": [
    {
     "name": "stdout",
     "output_type": "stream",
     "text": [
      "십 구 팔 칠 육 오 사 삼 이 일 "
     ]
    }
   ],
   "source": [
    "for _ in reversed(\"일이삼사오육칠팔구십\"):\n",
    "    print(_, end=\" \")"
   ]
  },
  {
   "cell_type": "code",
   "execution_count": 185,
   "id": "82cc9f4f-3d88-4cf8-a723-f2f184461822",
   "metadata": {},
   "outputs": [
    {
     "name": "stdout",
     "output_type": "stream",
     "text": [
      "십 구 팔 칠 육 오 사 삼 이 일 "
     ]
    }
   ],
   "source": [
    "x = \"일이삼사오육칠팔구십\"\n",
    "\n",
    "for _ in x[10::-1]:\n",
    "    print(_, end=\" \")"
   ]
  },
  {
   "cell_type": "code",
   "execution_count": 192,
   "id": "cf5dac55-abc6-46d1-a958-baaa18f8cf2d",
   "metadata": {},
   "outputs": [
    {
     "name": "stdout",
     "output_type": "stream",
     "text": [
      "100 -420 250 1030 210 770 240 "
     ]
    }
   ],
   "source": [
    "x = [10, -42, 25, 103, 21, 77, 24]\n",
    "\n",
    "for a in x:\n",
    "    print(a * 10, end=\" \")"
   ]
  },
  {
   "cell_type": "code",
   "execution_count": 212,
   "id": "2c27cc5d-d9e4-455f-9cc4-2075e6cc502c",
   "metadata": {},
   "outputs": [
    {
     "name": "stdin",
     "output_type": "stream",
     "text": [
      "구구단을 알려드립니다. 숫자를 입력하세요 9\n"
     ]
    },
    {
     "name": "stdout",
     "output_type": "stream",
     "text": [
      "9 * 1 = 9\n",
      "9 * 2 = 18\n",
      "9 * 3 = 27\n",
      "9 * 4 = 36\n",
      "9 * 5 = 45\n",
      "9 * 6 = 54\n",
      "9 * 7 = 63\n",
      "9 * 8 = 72\n",
      "9 * 9 = 81\n"
     ]
    }
   ],
   "source": [
    "# 다시풀기\n",
    "u = int(input(\"구구단을 알려드립니다. 숫자를 입력하세요\"))\n",
    "result = 1\n",
    "for g in range(1, u + 1):\n",
    "    print(\"9 *\", g, \"=\", g * 9)\n",
    "    "
   ]
  },
  {
   "cell_type": "code",
   "execution_count": 211,
   "id": "2a36eaa1-20d4-4e75-94e6-0f0572bf538f",
   "metadata": {},
   "outputs": [
    {
     "name": "stdin",
     "output_type": "stream",
     "text": [
      "자연수를 입력해주세요: 100\n"
     ]
    },
    {
     "name": "stdout",
     "output_type": "stream",
     "text": [
      "5050\n"
     ]
    }
   ],
   "source": [
    "b = int(input(\"자연수를 입력해주세요:\"))\n",
    "result = 0\n",
    "\n",
    "for h in range(1, b + 1):\n",
    "    result += h\n",
    "print(result)"
   ]
  },
  {
   "cell_type": "code",
   "execution_count": 230,
   "id": "afb4c9bd-be9a-4cae-a641-7f1ee537d6fc",
   "metadata": {},
   "outputs": [
    {
     "name": "stdout",
     "output_type": "stream",
     "text": [
      "*****\n",
      "*****\n",
      "*****\n",
      "*****\n",
      "*****\n"
     ]
    }
   ],
   "source": [
    "s = \"*\" * 5\n",
    "\n",
    "for h in s:\n",
    "    print(h*5)"
   ]
  },
  {
   "cell_type": "code",
   "execution_count": 235,
   "id": "249a27dd-fa31-47d6-825d-d93e0be26777",
   "metadata": {},
   "outputs": [
    {
     "name": "stdout",
     "output_type": "stream",
     "text": [
      "*****\n",
      "*****\n",
      "*****\n",
      "*****\n",
      "*****\n"
     ]
    }
   ],
   "source": [
    "for i in range(5):\n",
    "    for j in range(5):\n",
    "        print(\"*\", end=\"\")\n",
    "    print()    "
   ]
  },
  {
   "cell_type": "code",
   "execution_count": 237,
   "id": "d636f8e6-51f3-4434-8ec8-fef3c4075a35",
   "metadata": {},
   "outputs": [
    {
     "name": "stdout",
     "output_type": "stream",
     "text": [
      "Hello world!\n",
      "Hello world!\n",
      "Hello world!\n",
      "Hello world!\n",
      "Hello world!\n",
      "Hello world!\n",
      "Hello world!\n",
      "Hello world!\n",
      "Hello world!\n",
      "Hello world!\n"
     ]
    }
   ],
   "source": [
    "# while문 -> 조건식으로 작동하는반복문\n",
    "\n",
    "i = 0                      #초기식\n",
    "while i < 10:              #조건식\n",
    "    print(\"Hello world!\")  #반복할 코드흐름 \n",
    "    i += 1                 #반복할 코드흐름 , 변화식   "
   ]
  },
  {
   "cell_type": "code",
   "execution_count": 247,
   "id": "5f70f149-a5c4-43a9-91d7-90b1757bd9fc",
   "metadata": {},
   "outputs": [
    {
     "name": "stdin",
     "output_type": "stream",
     "text": [
      "반복할 횟수를 입력하세요:  3\n"
     ]
    },
    {
     "name": "stdout",
     "output_type": "stream",
     "text": [
      "Hello world 3\n",
      "Hello world 2\n",
      "Hello world 1\n"
     ]
    }
   ],
   "source": [
    "count = int(input(\"반복할 횟수를 입력하세요: \"))\n",
    "\n",
    "while count > 0:\n",
    "    print(\"Hello world\", count)\n",
    "    count -= 1"
   ]
  },
  {
   "cell_type": "code",
   "execution_count": 269,
   "id": "ae735189-e7bb-4ac4-96e0-22df6695b208",
   "metadata": {},
   "outputs": [
    {
     "name": "stdout",
     "output_type": "stream",
     "text": [
      "2\t4\t6\t8\t10\t12\t14\t16\t18\t20\t22\t24\t26\t28\t30\t32\t34\t36\t38\t40\t42\t44\t46\t48\t50\t52\t54\t56\t58\t60\t62\t64\t66\t68\t70\t72\t74\t76\t78\t80\t82\t84\t86\t88\t90\t92\t94\t96\t98\t100\t"
     ]
    }
   ],
   "source": [
    "a = 2\n",
    "while a <= 100:\n",
    "    print(a, end=\"\\t\")\n",
    "    a += 2"
   ]
  },
  {
   "cell_type": "code",
   "execution_count": 275,
   "id": "805f1a7a-07c9-4157-83c5-7bbeb85aa7a3",
   "metadata": {},
   "outputs": [
    {
     "name": "stdin",
     "output_type": "stream",
     "text": [
      "구구단을 알려드립니다. 숫자를 입력하세요 9\n"
     ]
    },
    {
     "name": "stdout",
     "output_type": "stream",
     "text": [
      "9 * 1 = 9\n",
      "9 * 2 = 18\n",
      "9 * 3 = 27\n",
      "9 * 4 = 36\n",
      "9 * 5 = 45\n",
      "9 * 6 = 54\n",
      "9 * 7 = 63\n",
      "9 * 8 = 72\n",
      "9 * 9 = 81\n"
     ]
    }
   ],
   "source": [
    "c = int(input(\"구구단을 알려드립니다. 숫자를 입력하세요\"))\n",
    "n = 1\n",
    "while n < 10:\n",
    "    print(c, \"*\", n, \"=\", c * n)\n",
    "    n += 1"
   ]
  },
  {
   "cell_type": "code",
   "execution_count": 283,
   "id": "fac688a4-a261-4a69-85e3-0298e274a8a2",
   "metadata": {},
   "outputs": [
    {
     "name": "stdout",
     "output_type": "stream",
     "text": [
      "97\n",
      "100\n",
      "77\n"
     ]
    }
   ],
   "source": [
    "# for문으로 시퀀스 객체의 인덱스 루프(loop)테크닉\n",
    "\n",
    "scores = (97, 100, 77)\n",
    "for _ in range(len(scores)):\n",
    "    print(scores[_])"
   ]
  },
  {
   "cell_type": "code",
   "execution_count": 281,
   "id": "ff65462f-ad84-46e8-90a8-b9eba65175ca",
   "metadata": {},
   "outputs": [
    {
     "name": "stdout",
     "output_type": "stream",
     "text": [
      "97\n",
      "100\n",
      "77\n"
     ]
    }
   ],
   "source": [
    "scores = (97, 100, 77)\n",
    "i = 0 \n",
    "while i < len(scores):\n",
    "    print(scores[i])\n",
    "    i += 1"
   ]
  },
  {
   "cell_type": "code",
   "execution_count": null,
   "id": "741016e1-ad70-493e-b855-6e3f1e6522f5",
   "metadata": {},
   "outputs": [],
   "source": []
  }
 ],
 "metadata": {
  "kernelspec": {
   "display_name": "Python 3 (ipykernel)",
   "language": "python",
   "name": "python3"
  },
  "language_info": {
   "codemirror_mode": {
    "name": "ipython",
    "version": 3
   },
   "file_extension": ".py",
   "mimetype": "text/x-python",
   "name": "python",
   "nbconvert_exporter": "python",
   "pygments_lexer": "ipython3",
   "version": "3.9.13"
  }
 },
 "nbformat": 4,
 "nbformat_minor": 5
}
