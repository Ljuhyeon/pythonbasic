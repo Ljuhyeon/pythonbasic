{
 "cells": [
  {
   "cell_type": "code",
   "execution_count": 11,
   "id": "0e41f08d-dfd3-4ef7-9bca-67425afb23cc",
   "metadata": {},
   "outputs": [
    {
     "name": "stdout",
     "output_type": "stream",
     "text": [
      "\n",
      "안녕하세요.\n",
      "나는 파이썬을 공부하고 있습니다.\n",
      "반갑습니다.\n",
      "\n"
     ]
    }
   ],
   "source": [
    "s3 = \"\"\"\n",
    "안녕하세요.\n",
    "나는 파이썬을 공부하고 있습니다.\n",
    "반갑습니다.\n",
    "\"\"\"\n",
    "\n",
    "print(s3)"
   ]
  },
  {
   "cell_type": "code",
   "execution_count": 12,
   "id": "8ce337cc-1c6f-4395-be1d-b70ddde8d8c9",
   "metadata": {},
   "outputs": [
    {
     "name": "stdout",
     "output_type": "stream",
     "text": [
      " 안녕하세요. \n",
      " 나는 파이썬을 공부하고 있습니다. \n"
     ]
    }
   ],
   "source": [
    "s2 = \" 안녕하세요. \\n 나는 파이썬을 공부하고 있습니다. \"\n",
    "\n",
    "print(s2)"
   ]
  },
  {
   "cell_type": "code",
   "execution_count": 27,
   "id": "065dca01-425d-41d8-81e3-b11a074a95b1",
   "metadata": {},
   "outputs": [
    {
     "name": "stdout",
     "output_type": "stream",
     "text": [
      "안녕하세요.\n",
      "나는 파이썬을 공부하고 있습니다.\n",
      "반갑습니다.\n"
     ]
    }
   ],
   "source": [
    "s1 = \"\"\"\\\n",
    "안녕하세요.\n",
    "나는 파이썬을 공부하고 있습니다.\n",
    "반갑습니다.\\\n",
    "\"\"\"\n",
    "\n",
    "print(s1)"
   ]
  },
  {
   "cell_type": "code",
   "execution_count": 34,
   "id": "ffbabb1f-0112-4980-aff4-8920ed0f4d14",
   "metadata": {},
   "outputs": [
    {
     "name": "stdout",
     "output_type": "stream",
     "text": [
      "\"안녕하세요\"\n",
      "나는 파이썬을 공부하고 있습니다.\n",
      "반갑습니다.\n",
      "\n"
     ]
    }
   ],
   "source": [
    "s5 = \"\"\"\\\"안녕하세요\\\"\n",
    "나는 파이썬을 공부하고 있습니다.\n",
    "반갑습니다.\n",
    "\"\"\"\n",
    "\n",
    "print(s5)"
   ]
  },
  {
   "cell_type": "code",
   "execution_count": 46,
   "id": "2eac88e4-16a9-4773-8819-0071f4aa9b7c",
   "metadata": {},
   "outputs": [
    {
     "name": "stdout",
     "output_type": "stream",
     "text": [
      "너무 너무 너무 너무 너무 너무 너무 파이썬 공부가 즐겁습니다.\n"
     ]
    }
   ],
   "source": [
    "s6 = \"너무 너무 너무 너무 너무 너무 너무 파이썬 공부가 즐겁습니다.\"\n",
    "\n",
    "print(s5)"
   ]
  },
  {
   "cell_type": "code",
   "execution_count": 53,
   "id": "170c5377-b430-4057-a10d-ee734fd9cc7f",
   "metadata": {},
   "outputs": [
    {
     "name": "stdout",
     "output_type": "stream",
     "text": [
      "너무    너무    너무    너무    너무    너무    너무    너무    너무    너무    너무    너무    너무    너무    너무    너무    너무    너무    너무    너무    너무    너무    너무    너무    너무    너무    너무    너무    너무    너무    너무    너무    너무    너무    너무    너무    너무    너무    너무    너무    너무    너무    너무    너무    너무    너무    너무    너무    너무    너무    너무    너무    너무    너무    너무    너무    너무    너무    너무    너무    너무    너무    너무    너무    너무    너무    너무    너무    너무    너무    너무    너무    너무    너무    너무    너무    너무    너무    너무    너무    너무    너무    너무    너무    너무    너무    너무    너무    너무    너무    너무    너무    너무    너무    너무    너무    너무    너무    너무    너무    파이썬  공부가  즐겁습니다.\n"
     ]
    }
   ],
   "source": [
    "s7 = \"너무    \" * 100 + \"파이썬  공부가  즐겁습니다.\"\n",
    "\n",
    "print(s7)"
   ]
  },
  {
   "cell_type": "code",
   "execution_count": 60,
   "id": "4675e4f3-05c4-4a28-a123-8bea24cf1a30",
   "metadata": {},
   "outputs": [
    {
     "name": "stdout",
     "output_type": "stream",
     "text": [
      "P\n",
      "n\n",
      " \n",
      "y\n",
      "P t o n\n",
      " \n"
     ]
    }
   ],
   "source": [
    "# 변수에 공백을 포함하여 출력되는 것을 함께 확인.\n",
    "word = \"Python \" \n",
    "# 인덱스는 0부터 시작된다\n",
    "print(word[0])\n",
    "print(word[5])\n",
    "# 음수는 뒤에서부터 셉니다.\n",
    "print(word[-1])\n",
    "print(word[-6])\n",
    "print(word[0],word[2],word[4],word[5])\n",
    "print(word[6])"
   ]
  },
  {
   "cell_type": "code",
   "execution_count": 62,
   "id": "82a00d11-61d5-4f65-b762-9b153656f842",
   "metadata": {},
   "outputs": [
    {
     "name": "stdout",
     "output_type": "stream",
     "text": [
      "꺾\n",
      "꺾\n"
     ]
    }
   ],
   "source": [
    "sentence = '중요한 것은 꺾이지 않는 마음'\n",
    "\n",
    "print(sentence[7])\n",
    "print(sentence[-9])"
   ]
  },
  {
   "cell_type": "code",
   "execution_count": 67,
   "id": "90392676-c0b5-470d-9d4d-f3cdc19af14c",
   "metadata": {},
   "outputs": [
    {
     "name": "stdout",
     "output_type": "stream",
     "text": [
      "Py\n",
      "n\n",
      "Pyt\n",
      "Pytho\n",
      "Pto\n",
      "nohtyP\n"
     ]
    }
   ],
   "source": [
    "# 문자열 슬라이싱 \n",
    "word = 'Python'\n",
    "\n",
    "print(word[0:2])\n",
    "print(word[-1:])\n",
    "print(word[:3])\n",
    "print(word[:-1])\n",
    "\n",
    "# [시작 숫자(이상):끝 숫자(미만):증감 크기]\n",
    "print(word[::2])\n",
    "print(word[::-1])"
   ]
  },
  {
   "cell_type": "code",
   "execution_count": 101,
   "id": "65f6e944-66e3-4c9b-a2fa-ba3c5ee1de4a",
   "metadata": {},
   "outputs": [
    {
     "name": "stdout",
     "output_type": "stream",
     "text": [
      "꺾이지 않는 마음\n",
      "중요한 것은 꺾이지 \n",
      "중 꺾 마\n",
      "한요중\n",
      "한요중\n",
      "한요중\n"
     ]
    }
   ],
   "source": [
    "#문자열 슬라이싱 연습\n",
    "sentence = '중요한 것은 꺾이지 않는 마음'\n",
    "\n",
    "print(sentence[7:16])\n",
    "print(sentence[:-5])\n",
    "print(sentence[0:1],sentence[7:8],sentence[14:15])\n",
    "print(sentence[2::-1])\n",
    "print(sentence[-14::-1])\n",
    "print(sentence[:3][::-1])"
   ]
  },
  {
   "cell_type": "code",
   "execution_count": 104,
   "id": "f4b3682c-b319-4f81-9916-464168f7ac6b",
   "metadata": {},
   "outputs": [
    {
     "ename": "TypeError",
     "evalue": "'str' object does not support item assignment",
     "output_type": "error",
     "traceback": [
      "\u001b[1;31m---------------------------------------------------------------------------\u001b[0m",
      "\u001b[1;31mTypeError\u001b[0m                                 Traceback (most recent call last)",
      "\u001b[1;32m~\\AppData\\Local\\Temp\\ipykernel_10304\\1775717580.py\u001b[0m in \u001b[0;36m<module>\u001b[1;34m\u001b[0m\n\u001b[0;32m      1\u001b[0m \u001b[1;31m# 문자열 변경 불가 예제(인덱스)\u001b[0m\u001b[1;33m\u001b[0m\u001b[1;33m\u001b[0m\u001b[0m\n\u001b[0;32m      2\u001b[0m \u001b[1;33m\u001b[0m\u001b[0m\n\u001b[1;32m----> 3\u001b[1;33m \u001b[0msentence\u001b[0m\u001b[1;33m[\u001b[0m\u001b[1;36m0\u001b[0m\u001b[1;33m]\u001b[0m \u001b[1;33m=\u001b[0m \u001b[1;34m\"한\"\u001b[0m\u001b[1;33m\u001b[0m\u001b[1;33m\u001b[0m\u001b[0m\n\u001b[0m\u001b[0;32m      4\u001b[0m \u001b[0msentence\u001b[0m\u001b[1;33m[\u001b[0m\u001b[1;36m0\u001b[0m\u001b[1;33m:\u001b[0m\u001b[1;36m3\u001b[0m\u001b[1;33m]\u001b[0m \u001b[1;33m=\u001b[0m \u001b[1;34m\"대단한\"\u001b[0m\u001b[1;33m\u001b[0m\u001b[1;33m\u001b[0m\u001b[0m\n",
      "\u001b[1;31mTypeError\u001b[0m: 'str' object does not support item assignment"
     ]
    }
   ],
   "source": [
    "# 문자열 변경 불가 예제(인덱스)\n",
    "\n",
    "sentence[0] = \"한\"\n",
    "sentence[0:3] = \"대단한\""
   ]
  },
  {
   "cell_type": "code",
   "execution_count": 105,
   "id": "2e56d060-fc01-43c4-8030-b799df6e668e",
   "metadata": {},
   "outputs": [
    {
     "name": "stdout",
     "output_type": "stream",
     "text": [
      "대단한 것은 꺾이지 않는 마음\n"
     ]
    }
   ],
   "source": [
    "# 문자열을 변경하고 싶을 경우\n",
    "\n",
    "sentence = \"대단한\" + sentence[3:]\n",
    "print(sentence)"
   ]
  },
  {
   "cell_type": "code",
   "execution_count": 106,
   "id": "e925ee2b-1d0b-4ab7-a2d2-fbe68a8fc456",
   "metadata": {},
   "outputs": [
    {
     "name": "stdout",
     "output_type": "stream",
     "text": [
      "16\n"
     ]
    }
   ],
   "source": [
    "# 시퀀스의 크기를 알아내는 함수 len\n",
    "\n",
    "print(len(sentence))"
   ]
  },
  {
   "cell_type": "code",
   "execution_count": 112,
   "id": "db5aed48-7240-4269-b7fb-367c58139748",
   "metadata": {},
   "outputs": [
    {
     "name": "stdout",
     "output_type": "stream",
     "text": [
      "[1, -1, 81, '중꺾마', 3, 3.0]\n",
      "중꺾마\n"
     ]
    }
   ],
   "source": [
    "# 리스트 : 가장 융통성있는 자료형 중 하나로, 서로 다른 형의 항목들을 포함할 수 있다.\n",
    "# 리스트 생성\n",
    "\n",
    "square = [1**3, 2-3, 3**4, \"중꺾마\", int(3), float(3)]\n",
    "print(square)\n",
    "\n",
    "# 리스트에서 인덱싱과 슬라이싱 활용 가능\n",
    "print(square[-3])"
   ]
  },
  {
   "cell_type": "code",
   "execution_count": 8,
   "id": "fb2b77b1-3175-4df5-93c5-5c8244610388",
   "metadata": {},
   "outputs": [
    {
     "ename": "NameError",
     "evalue": "name 'square' is not defined",
     "output_type": "error",
     "traceback": [
      "\u001b[1;31m---------------------------------------------------------------------------\u001b[0m",
      "\u001b[1;31mNameError\u001b[0m                                 Traceback (most recent call last)",
      "\u001b[1;32m~\\AppData\\Local\\Temp\\ipykernel_7436\\1894233919.py\u001b[0m in \u001b[0;36m<module>\u001b[1;34m\u001b[0m\n\u001b[0;32m      1\u001b[0m \u001b[1;31m# 리스트는 덧셈 연산자를 통해 요소를 합칠 수 있다\u001b[0m\u001b[1;33m\u001b[0m\u001b[1;33m\u001b[0m\u001b[0m\n\u001b[1;32m----> 2\u001b[1;33m \u001b[0mprint\u001b[0m\u001b[1;33m(\u001b[0m\u001b[0msquare\u001b[0m \u001b[1;33m+\u001b[0m \u001b[1;33m[\u001b[0m\u001b[1;36m36\u001b[0m\u001b[1;33m,\u001b[0m \u001b[1;36m49\u001b[0m\u001b[1;33m,\u001b[0m \u001b[1;36m64\u001b[0m\u001b[1;33m,\u001b[0m \u001b[1;36m81\u001b[0m\u001b[1;33m,\u001b[0m \u001b[1;36m100\u001b[0m\u001b[1;33m]\u001b[0m\u001b[1;33m)\u001b[0m\u001b[1;33m\u001b[0m\u001b[1;33m\u001b[0m\u001b[0m\n\u001b[0m\u001b[0;32m      3\u001b[0m \u001b[1;33m\u001b[0m\u001b[0m\n\u001b[0;32m      4\u001b[0m \u001b[1;31m# 리스트는 곱하기를 통해 요소를 반복할 수 있다\u001b[0m\u001b[1;33m\u001b[0m\u001b[1;33m\u001b[0m\u001b[0m\n\u001b[0;32m      5\u001b[0m \u001b[0mletters\u001b[0m \u001b[1;33m=\u001b[0m \u001b[1;33m[\u001b[0m\u001b[1;34m'a'\u001b[0m\u001b[1;33m,\u001b[0m \u001b[1;34m'b'\u001b[0m\u001b[1;33m,\u001b[0m \u001b[1;34m'c'\u001b[0m\u001b[1;33m,\u001b[0m \u001b[1;34m'd'\u001b[0m\u001b[1;33m,\u001b[0m \u001b[1;34m'e'\u001b[0m\u001b[1;33m]\u001b[0m\u001b[1;33m\u001b[0m\u001b[1;33m\u001b[0m\u001b[0m\n",
      "\u001b[1;31mNameError\u001b[0m: name 'square' is not defined"
     ]
    }
   ],
   "source": [
    "# 리스트는 덧셈 연산자를 통해 요소를 합칠 수 있다\n",
    "print(square + [36, 49, 64, 81, 100])\n",
    "\n",
    "# 리스트는 곱하기를 통해 요소를 반복할 수 있다\n",
    "letters = ['a', 'b', 'c', 'd', 'e']\n",
    "print(letters * 3)\n",
    "\n",
    "letters[2:5] = [\"C\", \"D\", \"E\"]\n",
    "print(letters)\n",
    "\n",
    "# 리스트의 크기 계산\n",
    "print(len(letters))\n",
    "\n",
    "# 리스트 안에 리스트\n",
    "a = ['a', 'b', 'c']\n",
    "n = [1, 2, 3]\n",
    "x = [a, n]\n",
    "print(x)\n",
    "print(x[0])\n",
    "\n",
    "# 리스트에 특정 요소가 있는지 궁금할 때\n",
    "#numbers = [1, 2, 3, 4, 5, 6, 7]\n",
    "#print(5 in numbers)\n",
    "#print(8 in numbers)"
   ]
  },
  {
   "cell_type": "code",
   "execution_count": 141,
   "id": "82bbc9cc-628f-4b94-85a7-827337e1df2c",
   "metadata": {},
   "outputs": [
    {
     "name": "stdout",
     "output_type": "stream",
     "text": [
      "True\n",
      "True\n",
      "True\n",
      "False\n",
      "True\n",
      "False\n"
     ]
    }
   ],
   "source": [
    "#'국어', '영어', '한국사', '선택 교과1', '선택 교과2'\n",
    "scores = [88, 73, 89, 59, 77]\n",
    "print(scores[0] >= 60)\n",
    "print(scores[1] >= 60)\n",
    "print(scores[2] >= 60)\n",
    "print(scores[3] >= 60)\n",
    "print(scores[4] >= 60)\n",
    "\n",
    "print(scores[4] >= 60 and scores[1] >= 60 and scores[2] >= 60 and scores[3] >= 60 and scores[4] >= 60)"
   ]
  },
  {
   "cell_type": "code",
   "execution_count": 19,
   "id": "782df8df-184b-40ce-8d88-4fbf28cf6793",
   "metadata": {},
   "outputs": [
    {
     "name": "stdout",
     "output_type": "stream",
     "text": [
      "[1, 2, 3, 4, 5, 6, 7, 1]\n",
      "[0, 1, 2, 3, 0, 4, 5, 6, 7, 1]\n",
      "[0, 1, 2, 3, 0, 4, 5, 6, 7, 1, 9, 10, 11]\n",
      "[1, 2, 3, 0, 4, 5, 6, 7, 1, 9, 10, 11]\n",
      "11\n",
      "[1, 2, 3, 0, 4, 5, 6, 7, 1, 9, 10]\n",
      "3\n",
      "1\n",
      "[0, 1, 1, 2, 3, 4, 5, 6, 7, 9, 10]\n",
      "[]\n"
     ]
    }
   ],
   "source": [
    "# 리스트 맨 뒤에 요소 추가하기\n",
    "numbers = [1, 2, 3, 4, 5, 6, 7]\n",
    "numbers.append(1)\n",
    "print(numbers)\n",
    "\n",
    "# insert(인덱스,요소) -> 리스트에 요소를 추가\n",
    "numbers.insert(0,0)\n",
    "numbers.insert(4,0)\n",
    "print(numbers)\n",
    "\n",
    "# extend(리스트) -> 리스트 요소를 원하는 인덱스에 추가\n",
    "numbers.extend([9,10,11])\n",
    "print(numbers)\n",
    "\n",
    "# remove(인자) -> 인자와 리스트에 동일한 요소 제거\n",
    "numbers.remove(0)\n",
    "print(numbers)\n",
    "\n",
    "# 리스트.pop() -> 리스트 제일 마지막 요소(리스트[-1])를 리스트에서 제거\n",
    "print(numbers.pop())\n",
    "print(numbers)\n",
    "\n",
    "# 리스트 인자와 같은 값의 요소 인덱스 조회\n",
    "print(numbers.index(0))\n",
    "\n",
    "# 리스트에서 인자와 같은 값의 요소 총 개수 조회\n",
    "print(numbers.count(0))\n",
    "\n",
    "# 리스트 요소 순서에 맞게 정렬하기\n",
    "numbers.sort()\n",
    "print(numbers)\n",
    "\n",
    "numbers.clear()\n",
    "print(numbers)\n"
   ]
  },
  {
   "cell_type": "code",
   "execution_count": 188,
   "id": "5d0fe04d-4b19-45db-8dcd-f6e6e5a51e8e",
   "metadata": {},
   "outputs": [
    {
     "name": "stdout",
     "output_type": "stream",
     "text": [
      "[3, 4, 5, 6, 7]\n",
      "7\n",
      "[3, 4, 5, 6]\n",
      "6\n",
      "5\n",
      "None\n",
      "[]\n"
     ]
    }
   ],
   "source": [
    "#리스트를 Stack처럼 활용하기 / 쌓았다 빼기\n",
    "stack = [3, 4, 5]\n",
    "stack.append(6)\n",
    "stack.append(7)\n",
    "print(stack)\n",
    "\n",
    "print(stack.pop())\n",
    "\n",
    "print(stack)\n",
    "\n",
    "print(stack.pop())\n",
    "\n",
    "print(stack.pop())\n",
    "\n",
    "print(stack.clear())\n",
    "\n",
    "print(stack)"
   ]
  },
  {
   "cell_type": "code",
   "execution_count": 192,
   "id": "77e69762-50cb-4895-b110-63da9b99acaf",
   "metadata": {},
   "outputs": [
    {
     "ename": "TypeError",
     "evalue": "'tuple' object does not support item assignment",
     "output_type": "error",
     "traceback": [
      "\u001b[1;31m---------------------------------------------------------------------------\u001b[0m",
      "\u001b[1;31mTypeError\u001b[0m                                 Traceback (most recent call last)",
      "\u001b[1;32m~\\AppData\\Local\\Temp\\ipykernel_10304\\1750259770.py\u001b[0m in \u001b[0;36m<module>\u001b[1;34m\u001b[0m\n\u001b[0;32m      1\u001b[0m \u001b[1;31m# 튜플 (인덱스, 슬라이싱 등의 방식으로 수정 및 삭제 불가/ 각 요소에 대한 값은 읽을 수 있음)\u001b[0m\u001b[1;33m\u001b[0m\u001b[1;33m\u001b[0m\u001b[0m\n\u001b[0;32m      2\u001b[0m \u001b[0mtuple_variable\u001b[0m \u001b[1;33m=\u001b[0m \u001b[1;33m(\u001b[0m\u001b[1;36m1\u001b[0m\u001b[1;33m,\u001b[0m \u001b[1;36m2\u001b[0m\u001b[1;33m,\u001b[0m \u001b[1;36m3\u001b[0m\u001b[1;33m,\u001b[0m \u001b[1;36m4\u001b[0m\u001b[1;33m,\u001b[0m \u001b[1;36m5\u001b[0m\u001b[1;33m,\u001b[0m \u001b[1;34m\"hello\"\u001b[0m\u001b[1;33m)\u001b[0m\u001b[1;33m\u001b[0m\u001b[1;33m\u001b[0m\u001b[0m\n\u001b[1;32m----> 3\u001b[1;33m \u001b[0mtuple_variable\u001b[0m\u001b[1;33m[\u001b[0m\u001b[1;36m0\u001b[0m\u001b[1;33m]\u001b[0m \u001b[1;33m=\u001b[0m \u001b[1;36m0\u001b[0m\u001b[1;33m\u001b[0m\u001b[1;33m\u001b[0m\u001b[0m\n\u001b[0m",
      "\u001b[1;31mTypeError\u001b[0m: 'tuple' object does not support item assignment"
     ]
    }
   ],
   "source": [
    "# 튜플 (인덱스, 슬라이싱 등의 방식으로 수정 및 삭제 불가/ 각 요소에 대한 값은 읽을 수 있음)\n",
    "tuple_variable = (1, 2, 3, 4, 5, \"hello\")\n",
    "tuple_variable[0] = 0"
   ]
  },
  {
   "cell_type": "code",
   "execution_count": 193,
   "id": "b383d8a4-c70b-4904-91d4-33ddb6c31eec",
   "metadata": {},
   "outputs": [
    {
     "name": "stdout",
     "output_type": "stream",
     "text": [
      "0.2569100856781006\n"
     ]
    }
   ],
   "source": [
    "import time\n",
    "\n",
    "start_time = time.time() # 시작하는 시간\n",
    "test = []\n",
    "\n",
    "#1,000,000번 반복해서 tuple을 만듭니다.\n",
    "for _ in range(1_000_000):\n",
    "    tp = (_, _) # tuple\n",
    "    test.append(tp)\n",
    "\n",
    "# 끝나는 시간 - 시작하는 시간\n",
    "print(time.time() - start_time)\n",
    "# 동작하는 시간 \n"
   ]
  },
  {
   "cell_type": "code",
   "execution_count": 194,
   "id": "a0173bc8-dbd8-48b3-80fa-dec026224f77",
   "metadata": {},
   "outputs": [
    {
     "name": "stdout",
     "output_type": "stream",
     "text": [
      "0.6979856491088867\n"
     ]
    }
   ],
   "source": [
    "start_time = time.time() # 시작하는 시간\n",
    "test = []\n",
    "\n",
    "#1,000,000번 반복해서 list를 만듭니다.\n",
    "for _ in range(1_000_000):\n",
    "    tp = [_, _] # list\n",
    "    test.append(tp)\n",
    "\n",
    "# 끝나는 시간 - 시작하는 시간\n",
    "print(time.time() - start_time)\n",
    "# 동작하는 시간 \n"
   ]
  },
  {
   "cell_type": "code",
   "execution_count": 197,
   "id": "065f4876-e61c-4424-b8de-47c637387b33",
   "metadata": {},
   "outputs": [
    {
     "name": "stdout",
     "output_type": "stream",
     "text": [
      "test1\n",
      "test2\n",
      "이렇게 리스트도 가능합니다.\n"
     ]
    }
   ],
   "source": [
    "# 변수 여럿에 동시 할당하기 (Unpacking)\n",
    "\n",
    "s1, s2 = \"test1\", \"test2\"\n",
    "print(s1)\n",
    "print(s2) \n",
    "\n",
    "# 튜플 외에 다른 시퀀스 자료형도 Unpacking 가능\n",
    "\n",
    "s3, s4, s5 = [\"이렇게\", \"리스트도\", \"가능합니다.\"]\n",
    "print(s3, s4, s5)"
   ]
  },
  {
   "cell_type": "code",
   "execution_count": 203,
   "id": "1c5783ff-3d4f-4045-bbc5-45908014d506",
   "metadata": {},
   "outputs": [
    {
     "name": "stdin",
     "output_type": "stream",
     "text": [
      "Message 1111\n"
     ]
    }
   ],
   "source": [
    "input_value = input(\"Message\")"
   ]
  },
  {
   "cell_type": "code",
   "execution_count": 204,
   "id": "279db492-d815-45c0-97b9-295dcf8facad",
   "metadata": {},
   "outputs": [
    {
     "name": "stdout",
     "output_type": "stream",
     "text": [
      "input_value: 1111 \n",
      "type: <class 'str'>\n"
     ]
    }
   ],
   "source": [
    "print(\"input_value:\", input_value, \"\\ntype:\", type(input_value))"
   ]
  },
  {
   "cell_type": "code",
   "execution_count": 206,
   "id": "c383caec-939a-4c8f-ba88-98cafcec4c5f",
   "metadata": {},
   "outputs": [
    {
     "name": "stdout",
     "output_type": "stream",
     "text": [
      "input_value: 1111 \n",
      "type: <class 'int'>\n"
     ]
    }
   ],
   "source": [
    "input_value = int(input_value)\n",
    "print(\"input_value:\", input_value, \"\\ntype:\", type(input_value))"
   ]
  },
  {
   "cell_type": "code",
   "execution_count": 207,
   "id": "0232854a-d398-49d4-8335-c922d313fc14",
   "metadata": {},
   "outputs": [
    {
     "name": "stdin",
     "output_type": "stream",
     "text": [
      "정수 외에 다른 값을 입력해보세요. 1.1\n"
     ]
    }
   ],
   "source": [
    "input_value2 = input(\"정수 외에 다른 값을 입력해보세요.\")"
   ]
  },
  {
   "cell_type": "code",
   "execution_count": 213,
   "id": "3d2c5c70-44be-45e3-a80d-b55cb092fd76",
   "metadata": {},
   "outputs": [
    {
     "name": "stdin",
     "output_type": "stream",
     "text": [
      "정수를 입력해주세요: 5\n"
     ]
    },
    {
     "name": "stdout",
     "output_type": "stream",
     "text": [
      "5\n"
     ]
    }
   ],
   "source": [
    "input_value4 = int(input(\"정수를 입력해주세요:\"))\n",
    "print(input_value4)"
   ]
  },
  {
   "cell_type": "code",
   "execution_count": 7,
   "id": "c1450837-f6ea-4307-b9f9-d71489eaa1db",
   "metadata": {},
   "outputs": [
    {
     "name": "stdout",
     "output_type": "stream",
     "text": [
      "재밌어요재밌어요재밌어요재밌어요재밌어요재밌어요재밌어요\n",
      "28\n"
     ]
    }
   ],
   "source": [
    "# 복습\n",
    "\n",
    "s7 = '재밌어요' * 7\n",
    "print(s7)\n",
    "print(len(s7))"
   ]
  },
  {
   "cell_type": "code",
   "execution_count": 20,
   "id": "59e84011-9bd7-42fd-910e-a18590dc327f",
   "metadata": {},
   "outputs": [
    {
     "name": "stdin",
     "output_type": "stream",
     "text": [
      "국어, 영어, 수학, 과학 점수를 입력해주세요 98, 100, 96, 100\n"
     ]
    },
    {
     "name": "stdout",
     "output_type": "stream",
     "text": [
      "평균 점수는 98.5 점입니다.\n"
     ]
    }
   ],
   "source": [
    "# input(\"국어, 영어, 수학, 과학 점수를 입력해주세요\").split(\",\") -> 문자열 ['98', '100', '96', '100']\n",
    "# map(int, input(\"국어, 영어, 수학, 과학 점수를 입력해주세요\").split(\",\")) -> 각각의 요소에 int 기능 적용 [98, 100, 96, 100] 이 됨\n",
    "# kor, eng, mat, sci = [98, 100, 96, 100] ->\n",
    "\n",
    "kor, eng, mat, sci = map(int, input(\"국어, 영어, 수학, 과학 점수를 입력해주세요\").split(\",\"))\n",
    "avg = (kor + eng + mat + sci) / 4\n",
    "print(\"평균 점수는\", avg, \"점입니다.\")\n"
   ]
  },
  {
   "cell_type": "code",
   "execution_count": 21,
   "id": "e12e6599-4ad0-453b-be8b-b6b05a7775bc",
   "metadata": {},
   "outputs": [
    {
     "name": "stdin",
     "output_type": "stream",
     "text": [
      "국어, 영어, 수학, 과학점수를 입력해주세요. 98,100,96,100\n"
     ]
    }
   ],
   "source": [
    "some_str = input(\"국어, 영어, 수학, 과학점수를 입력해주세요.\")"
   ]
  },
  {
   "cell_type": "code",
   "execution_count": 22,
   "id": "ef162d2a-682d-4332-bf86-d0d3358062c5",
   "metadata": {},
   "outputs": [
    {
     "data": {
      "text/plain": [
       "'98,100,96,100'"
      ]
     },
     "execution_count": 22,
     "metadata": {},
     "output_type": "execute_result"
    }
   ],
   "source": [
    "some_str"
   ]
  },
  {
   "cell_type": "code",
   "execution_count": 23,
   "id": "83ce3e79-f166-40d1-ab1c-b658ba78a98a",
   "metadata": {},
   "outputs": [
    {
     "data": {
      "text/plain": [
       "str"
      ]
     },
     "execution_count": 23,
     "metadata": {},
     "output_type": "execute_result"
    }
   ],
   "source": [
    "type(some_str)"
   ]
  },
  {
   "cell_type": "code",
   "execution_count": 24,
   "id": "ac5f428c-4765-4f79-a70e-0bf9ad9bfca1",
   "metadata": {},
   "outputs": [],
   "source": [
    "some_list = some_str.split(',')"
   ]
  },
  {
   "cell_type": "code",
   "execution_count": 25,
   "id": "5c8b0067-c305-492d-be65-1ec91f76f1e9",
   "metadata": {},
   "outputs": [
    {
     "data": {
      "text/plain": [
       "list"
      ]
     },
     "execution_count": 25,
     "metadata": {},
     "output_type": "execute_result"
    }
   ],
   "source": [
    "type(some_list)"
   ]
  },
  {
   "cell_type": "code",
   "execution_count": 26,
   "id": "647d5adc-3e3c-426a-b183-44fcdb3e450c",
   "metadata": {},
   "outputs": [
    {
     "data": {
      "text/plain": [
       "['98', '100', '96', '100']"
      ]
     },
     "execution_count": 26,
     "metadata": {},
     "output_type": "execute_result"
    }
   ],
   "source": [
    "some_list"
   ]
  },
  {
   "cell_type": "code",
   "execution_count": 27,
   "id": "c62c34e0-fda4-4ff2-abe7-8119cc0f8daf",
   "metadata": {},
   "outputs": [
    {
     "data": {
      "text/plain": [
       "'98'"
      ]
     },
     "execution_count": 27,
     "metadata": {},
     "output_type": "execute_result"
    }
   ],
   "source": [
    "some_list[0]"
   ]
  },
  {
   "cell_type": "code",
   "execution_count": 28,
   "id": "073e47f6-52d9-422a-aac2-faa1cd6c4266",
   "metadata": {},
   "outputs": [
    {
     "data": {
      "text/plain": [
       "str"
      ]
     },
     "execution_count": 28,
     "metadata": {},
     "output_type": "execute_result"
    }
   ],
   "source": [
    "type(some_list[0])"
   ]
  },
  {
   "cell_type": "code",
   "execution_count": 32,
   "id": "9ef9e2d0-05ff-4d9e-8e1a-a8e9ee992fba",
   "metadata": {},
   "outputs": [
    {
     "data": {
      "text/plain": [
       "394"
      ]
     },
     "execution_count": 32,
     "metadata": {},
     "output_type": "execute_result"
    }
   ],
   "source": [
    "int(some_list[0]) + int(some_list[1]) + int(some_list[2]) + int(some_list[3])"
   ]
  },
  {
   "cell_type": "code",
   "execution_count": 34,
   "id": "27811974-7d91-438d-a8e7-c0483201205c",
   "metadata": {},
   "outputs": [],
   "source": [
    "some_map = map(int, some_list)"
   ]
  },
  {
   "cell_type": "code",
   "execution_count": 37,
   "id": "da280096-2089-4752-a45a-a7e3be3317c7",
   "metadata": {},
   "outputs": [
    {
     "data": {
      "text/plain": [
       "map"
      ]
     },
     "execution_count": 37,
     "metadata": {},
     "output_type": "execute_result"
    }
   ],
   "source": [
    "type(some_map)"
   ]
  },
  {
   "cell_type": "code",
   "execution_count": 38,
   "id": "6f739a74-3fbd-49b0-850a-e225ca3f77e4",
   "metadata": {},
   "outputs": [],
   "source": [
    "result_list = list(some_map)"
   ]
  },
  {
   "cell_type": "code",
   "execution_count": 39,
   "id": "13d8cb4f-cf4c-4866-bee0-ea7c650054ed",
   "metadata": {},
   "outputs": [
    {
     "data": {
      "text/plain": [
       "[98, 100, 96, 100]"
      ]
     },
     "execution_count": 39,
     "metadata": {},
     "output_type": "execute_result"
    }
   ],
   "source": [
    "result_list"
   ]
  },
  {
   "cell_type": "code",
   "execution_count": 40,
   "id": "fe9bbbd7-f339-4ae1-9d76-dff8f382bf7c",
   "metadata": {},
   "outputs": [
    {
     "ename": "NameError",
     "evalue": "name 'result_lsit' is not defined",
     "output_type": "error",
     "traceback": [
      "\u001b[1;31m---------------------------------------------------------------------------\u001b[0m",
      "\u001b[1;31mNameError\u001b[0m                                 Traceback (most recent call last)",
      "\u001b[1;32m~\\AppData\\Local\\Temp\\ipykernel_7436\\4255252034.py\u001b[0m in \u001b[0;36m<module>\u001b[1;34m\u001b[0m\n\u001b[1;32m----> 1\u001b[1;33m \u001b[0mkor\u001b[0m\u001b[1;33m,\u001b[0m \u001b[0meng\u001b[0m\u001b[1;33m,\u001b[0m \u001b[0mmat\u001b[0m\u001b[1;33m,\u001b[0m \u001b[0msci\u001b[0m \u001b[1;33m=\u001b[0m \u001b[0mresult_lsit\u001b[0m\u001b[1;33m\u001b[0m\u001b[1;33m\u001b[0m\u001b[0m\n\u001b[0m",
      "\u001b[1;31mNameError\u001b[0m: name 'result_lsit' is not defined"
     ]
    }
   ],
   "source": [
    "kor, eng, mat, sci = result_lsit"
   ]
  },
  {
   "cell_type": "code",
   "execution_count": null,
   "id": "41c69396-5268-4790-947c-ee3c64378791",
   "metadata": {},
   "outputs": [],
   "source": []
  }
 ],
 "metadata": {
  "kernelspec": {
   "display_name": "Python 3 (ipykernel)",
   "language": "python",
   "name": "python3"
  },
  "language_info": {
   "codemirror_mode": {
    "name": "ipython",
    "version": 3
   },
   "file_extension": ".py",
   "mimetype": "text/x-python",
   "name": "python",
   "nbconvert_exporter": "python",
   "pygments_lexer": "ipython3",
   "version": "3.9.13"
  }
 },
 "nbformat": 4,
 "nbformat_minor": 5
}
