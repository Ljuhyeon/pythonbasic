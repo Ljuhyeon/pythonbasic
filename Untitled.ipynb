{
 "cells": [
  {
   "cell_type": "markdown",
   "id": "1e4f4409-3507-40f9-905e-6340a7ce129f",
   "metadata": {},
   "source": [
    "# SQL\n",
    "----"
   ]
  },
  {
   "cell_type": "code",
   "execution_count": null,
   "id": "9079e878-469d-49f9-9d1e-ce7e58a5736b",
   "metadata": {},
   "outputs": [],
   "source": []
  },
  {
   "cell_type": "markdown",
   "id": "27ab48d9-07d8-4bff-9630-54929a509e76",
   "metadata": {},
   "source": [
    "## MariaDB\n",
    "-----"
   ]
  },
  {
   "cell_type": "code",
   "execution_count": null,
   "id": "51314bbc-b798-4e3c-9dd8-ccd111659d9a",
   "metadata": {},
   "outputs": [],
   "source": []
  }
 ],
 "metadata": {
  "kernelspec": {
   "display_name": "Python 3 (ipykernel)",
   "language": "python",
   "name": "python3"
  },
  "language_info": {
   "codemirror_mode": {
    "name": "ipython",
    "version": 3
   },
   "file_extension": ".py",
   "mimetype": "text/x-python",
   "name": "python",
   "nbconvert_exporter": "python",
   "pygments_lexer": "ipython3",
   "version": "3.9.13"
  }
 },
 "nbformat": 4,
 "nbformat_minor": 5
}
