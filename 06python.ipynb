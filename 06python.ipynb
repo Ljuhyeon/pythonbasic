{
 "cells": [
  {
   "cell_type": "code",
   "execution_count": 2,
   "id": "8fa8bc29-ec93-4c09-9d7c-deb0f983e482",
   "metadata": {},
   "outputs": [
    {
     "name": "stdout",
     "output_type": "stream",
     "text": [
      "[1, 3, 5, 7]\n"
     ]
    }
   ],
   "source": [
    "# 복습\n",
    "\n",
    "print(list(range(1, 9, 2)))"
   ]
  },
  {
   "cell_type": "code",
   "execution_count": 26,
   "id": "40c8c277-bf00-4339-a596-0a3d8a421b14",
   "metadata": {},
   "outputs": [
    {
     "name": "stdout",
     "output_type": "stream",
     "text": [
      "* * * * * * * * * *  *                    *\n",
      "*                    *\n",
      "*                    *\n",
      "*                    *\n",
      "*                    *\n",
      "*                    *\n",
      "*                    *\n",
      "*                    *\n",
      "* * * * * * * * * *  "
     ]
    }
   ],
   "source": [
    "for i in range(10):\n",
    "    if i == 0 or i == 9:\n",
    "        print(\"* \" * 10, end=\" \")\n",
    "    else:\n",
    "        print(\"*                    *\")"
   ]
  },
  {
   "cell_type": "code",
   "execution_count": 5,
   "id": "92e169ec-3f59-471d-b452-9eac332960a5",
   "metadata": {},
   "outputs": [
    {
     "name": "stdout",
     "output_type": "stream",
     "text": [
      "Hello world!\n",
      "Hello world!\n",
      "Hello world!\n",
      "Hello world!\n",
      "Hello world!\n",
      "Hello world!\n",
      "Hello world!\n",
      "Hello world!\n",
      "Hello world!\n",
      "Hello world!\n"
     ]
    }
   ],
   "source": [
    "i = 0\n",
    "while i < 10:\n",
    "    print(\"Hello world!\")\n",
    "    i += 1"
   ]
  },
  {
   "cell_type": "code",
   "execution_count": 15,
   "id": "e2fdfae7-5859-4378-a141-fb32c8d11d6b",
   "metadata": {},
   "outputs": [
    {
     "name": "stdout",
     "output_type": "stream",
     "text": [
      "1 2 3 4 5 6 7 8 9 10 "
     ]
    }
   ],
   "source": [
    "for i in range(1, 11):\n",
    "    print(i, end=\" \")"
   ]
  },
  {
   "cell_type": "code",
   "execution_count": 16,
   "id": "9d4d9ffa-20cf-4639-89fc-b9c392461377",
   "metadata": {},
   "outputs": [
    {
     "name": "stdout",
     "output_type": "stream",
     "text": [
      "1 2 3 4 5 6 7 8 9 10 "
     ]
    }
   ],
   "source": [
    "a = 1\n",
    "while a <= 10:\n",
    "    print(a, end=\" \")\n",
    "    a += 1"
   ]
  },
  {
   "cell_type": "code",
   "execution_count": 64,
   "id": "64a1d483-76fc-4c58-88d3-a9ce27f56dd7",
   "metadata": {},
   "outputs": [
    {
     "name": "stdout",
     "output_type": "stream",
     "text": [
      "79.0\n"
     ]
    }
   ],
   "source": [
    "class_a = (70, 60, 55, 75, 95, 90, 80, 80, 85, 100)\n",
    "a = 0\n",
    "total = 0\n",
    "while a < len(class_a):\n",
    "    total = total + class_a[a]\n",
    "    a = a + 1\n",
    "\n",
    "average = total / len(class_a)\n",
    "print(average)\n",
    "    \n",
    " "
   ]
  },
  {
   "cell_type": "code",
   "execution_count": 54,
   "id": "536aa12f-6811-48b4-867e-7633105b92e0",
   "metadata": {},
   "outputs": [
    {
     "name": "stdout",
     "output_type": "stream",
     "text": [
      "79.0\n"
     ]
    }
   ],
   "source": [
    "class_a = (70, 60, 55, 75, 95, 90, 80, 80, 85, 100)\n",
    "total = 0\n",
    "i = 0\n",
    "while i < len(class_a):\n",
    "    total += class_a[i]\n",
    "    i += 1\n",
    "\n",
    "average = total / len(class_a)\n",
    "print(average)"
   ]
  },
  {
   "cell_type": "code",
   "execution_count": 68,
   "id": "b7c4cd92-7fbc-4557-ad04-7d3be7da309c",
   "metadata": {},
   "outputs": [
    {
     "name": "stdout",
     "output_type": "stream",
     "text": [
      "0\n",
      "1\n",
      "2\n",
      "3\n",
      "4\n",
      "5\n",
      "6\n",
      "7\n",
      "8\n",
      "9\n",
      "10\n"
     ]
    }
   ],
   "source": [
    "for _ in range(10000):\n",
    "    print(_)\n",
    "    if _ == 10:\n",
    "        break\n"
   ]
  },
  {
   "cell_type": "code",
   "execution_count": null,
   "id": "ab4d15ff-2eee-4a9b-8450-bd3826c3e1c8",
   "metadata": {},
   "outputs": [],
   "source": [
    "i = 0\n",
    "while True:\n",
    "    print(\"Hello world\")\n",
    "    i += 1 \n",
    "    if i == 100:\n",
    "        break"
   ]
  },
  {
   "cell_type": "code",
   "execution_count": 92,
   "id": "30000346-9ef0-45e7-b24d-72ee2911fa72",
   "metadata": {},
   "outputs": [
    {
     "ename": "KeyboardInterrupt",
     "evalue": "",
     "output_type": "error",
     "traceback": [
      "\u001b[1;31m---------------------------------------------------------------------------\u001b[0m",
      "\u001b[1;31mKeyboardInterrupt\u001b[0m                         Traceback (most recent call last)",
      "\u001b[1;32m~\\AppData\\Local\\Temp\\ipykernel_620\\1378050683.py\u001b[0m in \u001b[0;36m<module>\u001b[1;34m\u001b[0m\n\u001b[0;32m      2\u001b[0m \u001b[0mtotal\u001b[0m \u001b[1;33m=\u001b[0m \u001b[1;36m0\u001b[0m\u001b[1;33m\u001b[0m\u001b[1;33m\u001b[0m\u001b[0m\n\u001b[0;32m      3\u001b[0m \u001b[1;32mwhile\u001b[0m \u001b[1;32mTrue\u001b[0m\u001b[1;33m:\u001b[0m\u001b[1;33m\u001b[0m\u001b[1;33m\u001b[0m\u001b[0m\n\u001b[1;32m----> 4\u001b[1;33m     \u001b[0mtotal\u001b[0m \u001b[1;33m+=\u001b[0m \u001b[0mi\u001b[0m\u001b[1;33m\u001b[0m\u001b[1;33m\u001b[0m\u001b[0m\n\u001b[0m\u001b[0;32m      5\u001b[0m     \u001b[0mi\u001b[0m \u001b[1;33m+=\u001b[0m \u001b[1;36m0\u001b[0m\u001b[1;33m\u001b[0m\u001b[1;33m\u001b[0m\u001b[0m\n\u001b[0;32m      6\u001b[0m     \u001b[1;32mif\u001b[0m \u001b[0mi\u001b[0m \u001b[1;33m>=\u001b[0m \u001b[1;36m101\u001b[0m\u001b[1;33m:\u001b[0m\u001b[1;33m\u001b[0m\u001b[1;33m\u001b[0m\u001b[0m\n",
      "\u001b[1;31mKeyboardInterrupt\u001b[0m: "
     ]
    }
   ],
   "source": [
    "i = 0\n",
    "total = 0\n",
    "while True:\n",
    "    total += i \n",
    "    i += 0\n",
    "    if i >= 101:\n",
    "        break\n",
    "        \n",
    "print(total)"
   ]
  },
  {
   "cell_type": "code",
   "execution_count": 90,
   "id": "790daea8-e48a-4c92-ab31-d01a6754fb11",
   "metadata": {},
   "outputs": [
    {
     "name": "stdin",
     "output_type": "stream",
     "text": [
      "q를 입력하면 종료됩니다. q\n"
     ]
    },
    {
     "name": "stdout",
     "output_type": "stream",
     "text": [
      "프로그램을 종료합니다.\n"
     ]
    }
   ],
   "source": [
    "while True:\n",
    "    input_value = input(\"q를 입력하면 종료됩니다.\")\n",
    "    if input_value == \"q\": break\n",
    "print(\"프로그램을 종료합니다.\")"
   ]
  },
  {
   "cell_type": "code",
   "execution_count": 91,
   "id": "a7be58db-70cb-48a8-95cf-fafc803eb352",
   "metadata": {},
   "outputs": [
    {
     "name": "stdout",
     "output_type": "stream",
     "text": [
      "0\t1\t2\t3\t4\t5\t6\t7\t8\t9\t10\t11\t12\t13\t14\t15\t16\t17\t18\t19\t20\t21\t22\t23\t24\t25\t26\t27\t28\t29\t30\t31\t32\t33\t34\t35\t36\t37\t38\t39\t40\t41\t42\t43\t44\t45\t46\t47\t48\t49\t50\t51\t52\t53\t54\t55\t56\t57\t58\t59\t60\t61\t62\t63\t64\t65\t66\t67\t68\t69\t70\t71\t72\t73\t74\t75\t76\t77\t78\t79\t80\t81\t82\t83\t84\t85\t86\t87\t88\t89\t90\t91\t92\t93\t94\t95\t96\t97\t98\t99\t"
     ]
    }
   ],
   "source": [
    "for i in range(100):\n",
    "    if i % 2 == 8:\n",
    "        continue\n",
    "    print(i, end=\"\\t\")"
   ]
  },
  {
   "cell_type": "code",
   "execution_count": 95,
   "id": "068a60f0-3e10-4fec-91c3-b1319b744a1b",
   "metadata": {},
   "outputs": [
    {
     "name": "stdin",
     "output_type": "stream",
     "text": [
      "시작하는 정수 입력 :  1\n",
      "끝나는 정수 입력 :  10\n"
     ]
    },
    {
     "name": "stdout",
     "output_type": "stream",
     "text": [
      "1 부터 10 까지의 합은 55 입니다.\n"
     ]
    }
   ],
   "source": [
    "a = int(input(\"시작하는 정수 입력 : \"))\n",
    "b = int(input(\"끝나는 정수 입력 : \"))\n",
    "total = 0 \n",
    "\n",
    "for i in range(a, b + 1):\n",
    "    total += i\n",
    "print(a, \"부터\", b, \"까지의 합은\", total, \"입니다.\") \n",
    "        \n",
    "    "
   ]
  },
  {
   "cell_type": "code",
   "execution_count": 103,
   "id": "b0926d28-24c9-4f55-b9e7-8ad193f23fa9",
   "metadata": {},
   "outputs": [
    {
     "name": "stdin",
     "output_type": "stream",
     "text": [
      "시작하는 정수 입력 :  1\n",
      "끝나는 정수 입력 :  10\n"
     ]
    },
    {
     "name": "stdout",
     "output_type": "stream",
     "text": [
      "1 부터 10 까지의 합은 55 입니다.\n"
     ]
    }
   ],
   "source": [
    "n = int(input(\"시작하는 정수 입력 : \"))\n",
    "m = int(input(\"끝나는 정수 입력 : \"))\n",
    "i = n\n",
    "total = 0 \n",
    "\n",
    "while i < m + 1:\n",
    "    total += i\n",
    "    i += 1\n",
    "print(n, \"부터\", m, \"까지의 합은\", total, \"입니다.\")\n"
   ]
  },
  {
   "cell_type": "code",
   "execution_count": 104,
   "id": "61171c87-7309-4a6d-bc9f-7f673ca1be56",
   "metadata": {},
   "outputs": [
    {
     "name": "stdout",
     "output_type": "stream",
     "text": [
      "<class 'dict'>\n",
      "{'key': 'value'}\n"
     ]
    }
   ],
   "source": [
    "# Dictionary 자료형\n",
    "# key : value 비시퀀스 자료형으로 인덱스를 갖지 않는다. key 값이 1:1로 value를 갖는다.\n",
    "# dictionary_variable = {key: value, Key: value,...}\n",
    "dic_var = {\"key\": \"value\"}\n",
    "print(type(dic_var))\n",
    "print(dic_var)"
   ]
  },
  {
   "cell_type": "code",
   "execution_count": 106,
   "id": "44bc0813-bdf1-42e7-a88f-669c3d29be88",
   "metadata": {},
   "outputs": [
    {
     "name": "stdout",
     "output_type": "stream",
     "text": [
      "{'key': 'last value'}\n"
     ]
    }
   ],
   "source": [
    "# key 값이 중복될 경우 마지막의 값이 남는다.\n",
    "dic_var = {\"key\": \"value\", \"key\": \"last value\"}\n",
    "print(dic_var)"
   ]
  },
  {
   "cell_type": "code",
   "execution_count": 107,
   "id": "601dc6d1-ad1e-41ec-b88f-b60b97f42d09",
   "metadata": {},
   "outputs": [
    {
     "name": "stdout",
     "output_type": "stream",
     "text": [
      "[<class 'str'>, <class 'int'>, <class 'float'>, <class 'tuple'>]\n"
     ]
    }
   ],
   "source": [
    "dic_var = {\"key\": \"value\",\n",
    "           1: \"value2\",\n",
    "           1.1: \"value3\",\n",
    "           True: \"value4\",\n",
    "           (\"key\", 1, 1.1, True): \"value2\"}\n",
    "print(list(map(type, dic_var.keys())))"
   ]
  },
  {
   "cell_type": "code",
   "execution_count": 108,
   "id": "694d4c8f-1671-47d8-88e3-b600a3fc00e3",
   "metadata": {},
   "outputs": [
    {
     "name": "stdout",
     "output_type": "stream",
     "text": [
      "[<class 'str'>, <class 'bool'>, <class 'float'>, <class 'tuple'>, <class 'list'>, <class 'dict'>, <class 'set'>]\n"
     ]
    }
   ],
   "source": [
    "dic_var = {\"key\": \"value\",\n",
    "           1: 1,\n",
    "           1.1: 1.1,\n",
    "           True: False,\n",
    "           (\"key\", 1, 1.1, True): (\"key\", 1, 1.1, True),\n",
    "          \"list\": [1, '가', 1,1, True, (1, '나')],\n",
    "          \"dict\": {\"key\": \"value\", \"key2\": \"value2\"},\n",
    "          \"set\": {\"key\", \"value\"}\n",
    "          }\n",
    "print(list(map(type, dic_var.values())))"
   ]
  },
  {
   "cell_type": "code",
   "execution_count": 109,
   "id": "20abe2e5-1869-40a0-923c-5a17111bc44d",
   "metadata": {},
   "outputs": [
    {
     "name": "stdout",
     "output_type": "stream",
     "text": [
      "{}\n",
      "<class 'dict'>\n"
     ]
    }
   ],
   "source": [
    "empty_dict = {}\n",
    "print(empty_dict)\n",
    "print(type(empty_dict))"
   ]
  },
  {
   "cell_type": "code",
   "execution_count": 112,
   "id": "2242ae6e-0e5b-4271-a5d2-a0fa00de68f8",
   "metadata": {},
   "outputs": [
    {
     "name": "stdout",
     "output_type": "stream",
     "text": [
      "{}\n",
      "<class 'dict'>\n"
     ]
    }
   ],
   "source": [
    "empty_dict = dict()\n",
    "print(empty_dict)\n",
    "print(type(empty_dict))"
   ]
  },
  {
   "cell_type": "code",
   "execution_count": 115,
   "id": "1ecf9a90-b2c2-4ae8-87ea-c768a8ebb636",
   "metadata": {},
   "outputs": [
    {
     "name": "stdout",
     "output_type": "stream",
     "text": [
      "{'key1': 'value', 'key2': 'value2', 'key3': 'value3'}\n"
     ]
    }
   ],
   "source": [
    "dict_a = dict(key1=\"value\", key2=\"value2\", key3=\"value3\")\n",
    "print(dict_a)"
   ]
  },
  {
   "cell_type": "code",
   "execution_count": 119,
   "id": "e0306185-3f74-4fff-9b1c-a2f0d7d9d054",
   "metadata": {},
   "outputs": [
    {
     "data": {
      "text/plain": [
       "{'key': 'value', 'key2': 'value2'}"
      ]
     },
     "execution_count": 119,
     "metadata": {},
     "output_type": "execute_result"
    }
   ],
   "source": [
    "dict([(\"key\", \"value\"), (\"key2\", \"value2\")])"
   ]
  },
  {
   "cell_type": "code",
   "execution_count": 122,
   "id": "0134a057-3dea-4170-840f-42ad70f1ea9d",
   "metadata": {},
   "outputs": [
    {
     "name": "stdout",
     "output_type": "stream",
     "text": [
      "{'key': 'value', 'key2': 'value2', 'key3': 'value3'}\n"
     ]
    }
   ],
   "source": [
    "dict_b = dict((zip([\"key\", \"key2\", \"key3\"], [\"value\", \"value2\", \"value3\"])))\n",
    "print (dict_b)"
   ]
  },
  {
   "cell_type": "code",
   "execution_count": 125,
   "id": "2ae5ad5e-dafa-4906-868e-11e78fc16dd8",
   "metadata": {},
   "outputs": [
    {
     "name": "stdout",
     "output_type": "stream",
     "text": [
      "[('key', 'value'), ('key2', 'value2'), ('key3', 'value3')]\n"
     ]
    }
   ],
   "source": [
    "keys = (\"key\", \"key2\", \"key3\")\n",
    "values = (\"value\", \"value2\", \"value3\")\n",
    "\n",
    "sam_list = []\n",
    "for index in range(len(keys)):\n",
    "    sam_list.append((keys[index], values[index]))\n",
    "print(sam_list)\n",
    "    "
   ]
  },
  {
   "cell_type": "code",
   "execution_count": 126,
   "id": "fd3418eb-f6cd-41db-ab98-722e8660293e",
   "metadata": {},
   "outputs": [
    {
     "name": "stdout",
     "output_type": "stream",
     "text": [
      "{'key': 'value', 'key2': 'value2', 'key3': 'value3'}\n",
      "value\n"
     ]
    }
   ],
   "source": [
    "print(dict_b)\n",
    "print(dict_b['key'])"
   ]
  },
  {
   "cell_type": "code",
   "execution_count": 127,
   "id": "8033ed26-f3dc-4d2f-9d99-c54a55064929",
   "metadata": {},
   "outputs": [
    {
     "name": "stdout",
     "output_type": "stream",
     "text": [
      "{'key': 'super value', 'key2': 'value2', 'key3': 'value3'}\n"
     ]
    }
   ],
   "source": [
    "dict_b['key'] = \"super value\"\n",
    "print(dict_b)"
   ]
  },
  {
   "cell_type": "code",
   "execution_count": 141,
   "id": "01d22624-d316-45a1-8bfd-4ebdccee2b2e",
   "metadata": {},
   "outputs": [
    {
     "name": "stdout",
     "output_type": "stream",
     "text": [
      "{'key': 'super value', 'key2': 'value2', 'key3': 'value3', 'new value': 'new value', 'new one': 'new value'}\n"
     ]
    }
   ],
   "source": [
    "dict_b['new one'] = \"new value\"\n",
    "print(dict_b)"
   ]
  },
  {
   "cell_type": "code",
   "execution_count": 142,
   "id": "ee4afbb0-9645-4663-9e0c-cb027acdb285",
   "metadata": {},
   "outputs": [
    {
     "name": "stdout",
     "output_type": "stream",
     "text": [
      "super value\n"
     ]
    }
   ],
   "source": [
    "print(dict_b['key'])"
   ]
  },
  {
   "cell_type": "code",
   "execution_count": 147,
   "id": "e09af70c-534e-49e3-b709-c6787e951469",
   "metadata": {},
   "outputs": [
    {
     "name": "stdout",
     "output_type": "stream",
     "text": [
      "{'key': 'super value', 'key2': 'value2', 'key3': 'value3'}\n",
      "True\n",
      "True\n"
     ]
    }
   ],
   "source": [
    "print(dict_b)\n",
    "print('key' in dict_b)\n",
    "print('super value' in dict_b.values())"
   ]
  },
  {
   "cell_type": "code",
   "execution_count": 146,
   "id": "16dde4ca-e55b-49b1-8525-be853bafc382",
   "metadata": {},
   "outputs": [
    {
     "name": "stdout",
     "output_type": "stream",
     "text": [
      "{'key': 'super value', 'key2': 'value2', 'key3': 'value3', 'new one': 'new value'}\n",
      "{'key': 'super value', 'key2': 'value2', 'key3': 'value3'}\n"
     ]
    }
   ],
   "source": [
    "print(dict_b)\n",
    "del dict_b['new one']\n",
    "print(dict_b)"
   ]
  },
  {
   "cell_type": "code",
   "execution_count": 183,
   "id": "adcd7d25-3f56-4d2b-a10f-109353156726",
   "metadata": {},
   "outputs": [
    {
     "name": "stdin",
     "output_type": "stream",
     "text": [
      "과일 이름을 입력하세요. 파인애플\n"
     ]
    },
    {
     "name": "stdout",
     "output_type": "stream",
     "text": [
      "파인애플의 가격은 2000원입니다.\n"
     ]
    }
   ],
   "source": [
    "dict_c = {\"사과\": 1000, \"바나나\": 700, \"오렌지\": 1500, \"파인애플\": 2000}\n",
    "name = input(\"과일 이름을 입력하세요.\")\n",
    "\n",
    "print(name,\"의 가격은\", \" \", dict_c[name], \"원입니다.\", sep=\"\")"
   ]
  },
  {
   "cell_type": "code",
   "execution_count": 180,
   "id": "fc06ba4e-3862-4cbf-b99a-e862c0a1a00d",
   "metadata": {},
   "outputs": [
    {
     "name": "stdin",
     "output_type": "stream",
     "text": [
      "과일 이름을 입력하세요. 바나나\n"
     ]
    },
    {
     "name": "stdout",
     "output_type": "stream",
     "text": [
      "바나나의 가격은 700원입니다.\n"
     ]
    }
   ],
   "source": [
    "dict_fruit = {\"사과\": 1000, \"바나나\": 700, \"오렌지\": 1500, \"파인애플\": 2000}\n",
    "\n",
    "input_fruit = input(\"과일 이름을 입력하세요.\")\n",
    "print(f\"{input_fruit}의 가격은 {dict_fruit[input_fruit]}원입니다.\")"
   ]
  },
  {
   "cell_type": "code",
   "execution_count": 200,
   "id": "8dfb1e96-9b63-4076-a607-71cf50e73be2",
   "metadata": {},
   "outputs": [
    {
     "name": "stdin",
     "output_type": "stream",
     "text": [
      "이름을 기입해주세요. 뽀로로 루피 크롱 스누피\n",
      "몸무게를 입력해주세요. 20.4 16.2 22.3 5.2\n"
     ]
    },
    {
     "name": "stdout",
     "output_type": "stream",
     "text": [
      "{'뽀로로': 20.4, '루피': 16.2, '크롱': 22.3, '스누피': 5.2}\n",
      "dict_keys(['뽀로로', '루피', '크롱', '스누피'])\n",
      "dict_values([20.4, 16.2, 22.3, 5.2])\n"
     ]
    }
   ],
   "source": [
    "c = input(\"이름을 기입해주세요.\").split(' ')\n",
    "d = input(\"몸무게를 입력해주세요.\").split(' ')\n",
    "\n",
    "dict_n = {c[0]: float(d[0]), c[1]: float(d[1]), c[2]: float(d[2]), c[3]: float(d[3])} \n",
    "print(dict_n)\n",
    "print(dict_n.keys())\n",
    "print(dict_n.values())"
   ]
  },
  {
   "cell_type": "code",
   "execution_count": 202,
   "id": "caef1acd-c66e-4e9a-850e-985e27fcee5e",
   "metadata": {},
   "outputs": [
    {
     "name": "stdin",
     "output_type": "stream",
     "text": [
      "이름을 기입해주세요. 뽀로로 루피 크롱 스누피\n",
      "몸무게를 입력해주세요. 20.4 16.2 22.3 5.2\n"
     ]
    },
    {
     "name": "stdout",
     "output_type": "stream",
     "text": [
      "{'뽀로로': 20.4, '루피': 16.2, '크롱': 22.3, '스누피': 5.2}\n"
     ]
    }
   ],
   "source": [
    "v1 = input(\"이름을 기입해주세요.\").split()\n",
    "v2 = map(float, input(\"몸무게를 입력해주세요.\").split())\n",
    "\n",
    "dict_info = dict(zip(v1, v2))\n",
    "print(dict_info)"
   ]
  },
  {
   "cell_type": "code",
   "execution_count": 212,
   "id": "78103ed3-4b72-406c-a67e-a485b795de32",
   "metadata": {},
   "outputs": [],
   "source": [
    "# 리스트 응용\n",
    "# 리스트 생성, 대괄호 사용\n",
    "#list = [403, 230, 420, 340, 233]\n",
    "\n",
    "#print(list[1])"
   ]
  },
  {
   "cell_type": "code",
   "execution_count": 213,
   "id": "651189fe-aa90-40ab-8ccd-8e3d70e027ef",
   "metadata": {},
   "outputs": [
    {
     "name": "stdout",
     "output_type": "stream",
     "text": [
      "[]\n",
      "<class 'list'>\n"
     ]
    }
   ],
   "source": [
    "empty_list = []\n",
    "print(empty_list)\n",
    "print(type(empty_list))"
   ]
  },
  {
   "cell_type": "code",
   "execution_count": 2,
   "id": "70f50795-9046-47a0-b7ed-22fa210d38b6",
   "metadata": {},
   "outputs": [
    {
     "name": "stdin",
     "output_type": "stream",
     "text": [
      "숫자를 띄어쓰기로 구분하여 여럿 입력 10\n"
     ]
    },
    {
     "name": "stdout",
     "output_type": "stream",
     "text": [
      "[10]\n"
     ]
    }
   ],
   "source": [
    "b = list(map(int, input(\"숫자를 띄어쓰기로 구분하여 여럿 입력\").split()))\n",
    "print(b)"
   ]
  },
  {
   "cell_type": "code",
   "execution_count": 3,
   "id": "b23ef02f-81ce-4130-bea5-3055e66d4e8a",
   "metadata": {},
   "outputs": [
    {
     "data": {
      "text/plain": [
       "[0, 1, 4, 9, 16, 25, 36, 49, 64, 81]"
      ]
     },
     "execution_count": 3,
     "metadata": {},
     "output_type": "execute_result"
    }
   ],
   "source": [
    "# list: [0, 1, 2, ... , 9]\n",
    "[i**2 for i in list(range(10))]"
   ]
  },
  {
   "cell_type": "code",
   "execution_count": 216,
   "id": "40e7906f-4f97-4f07-86f6-cefacf05f124",
   "metadata": {},
   "outputs": [
    {
     "name": "stdout",
     "output_type": "stream",
     "text": [
      "[1, 2, 3, 4, 5, 6, 7, 8, 9]\n"
     ]
    }
   ],
   "source": [
    "# 리스트 컴프리헨션\n",
    "\n",
    "list_c = [i for i in range(1,10)]\n",
    "print(list_c)"
   ]
  },
  {
   "cell_type": "code",
   "execution_count": 222,
   "id": "089f21ac-2a4d-49e2-b96a-f132cf6f57d8",
   "metadata": {},
   "outputs": [
    {
     "name": "stdout",
     "output_type": "stream",
     "text": [
      "<class 'list'>\n",
      "[1, 4, 9, 16, 25, 36, 49, 64, 81]\n"
     ]
    }
   ],
   "source": [
    "prac_result = [i**2 for i in range(1,10)]\n",
    "print(type(prac_result))\n",
    "print(prac_result)"
   ]
  },
  {
   "cell_type": "code",
   "execution_count": 226,
   "id": "d3a5cd67-541d-4bab-9f78-3f177de0ade6",
   "metadata": {},
   "outputs": [
    {
     "name": "stdout",
     "output_type": "stream",
     "text": [
      "[1, 3, 5, 7, 9]\n"
     ]
    }
   ],
   "source": [
    "prac_result2 = [i for i in range(1,10,2)]\n",
    "print(prac_result2)"
   ]
  },
  {
   "cell_type": "code",
   "execution_count": 245,
   "id": "c71503e3-3cd6-4894-9ca0-c882d81e3c69",
   "metadata": {},
   "outputs": [
    {
     "name": "stdout",
     "output_type": "stream",
     "text": [
      "['a', 'b', 'c', 'd', 'e', 'f']\n"
     ]
    }
   ],
   "source": [
    "prac_result3 = [i for i in 'abcdef']\n",
    "print(prac_result3)"
   ]
  },
  {
   "cell_type": "code",
   "execution_count": 249,
   "id": "e45761c2-68e2-4bd3-9d58-e11b2440d067",
   "metadata": {},
   "outputs": [
    {
     "name": "stdout",
     "output_type": "stream",
     "text": [
      "['a', 'c', 'e']\n"
     ]
    }
   ],
   "source": [
    "txt = 'abcdef'\n",
    "prac_result4 = [i for i in txt[0:6:2]]\n",
    "print(prac_result4)"
   ]
  },
  {
   "cell_type": "code",
   "execution_count": 278,
   "id": "3e3436cd-4862-4bad-a982-44023a936ba2",
   "metadata": {},
   "outputs": [
    {
     "name": "stdout",
     "output_type": "stream",
     "text": [
      "['2', '3', '4', '5', '6', '7', '8', '9', '10', 'J', 'Q', 'K', 'A']\n"
     ]
    }
   ],
   "source": [
    "prac_result4 = [str(i) for i in range(2,11)] + [str(i) for i in 'JQKA']\n",
    "print(prac_result4)"
   ]
  },
  {
   "cell_type": "code",
   "execution_count": 293,
   "id": "d9ff74c7-4f0c-4c62-9f18-eb1d263fa4a9",
   "metadata": {},
   "outputs": [
    {
     "name": "stdout",
     "output_type": "stream",
     "text": [
      "[['2', '3', '4', '5', '6', '7', '8', '9', '10', 'J', 'Q', 'K', 'A'], ['2', '3', '4', '5', '6', '7', '8', '9', '10', 'J', 'Q', 'K', 'A'], ['2', '3', '4', '5', '6', '7', '8', '9', '10', 'J', 'Q', 'K', 'A'], ['2', '3', '4', '5', '6', '7', '8', '9', '10', 'J', 'Q', 'K', 'A']]\n"
     ]
    }
   ],
   "source": [
    "prac_result5 = [z for z in [prac_result4] * 4] \n",
    "print(prac_result5)"
   ]
  },
  {
   "cell_type": "code",
   "execution_count": 294,
   "id": "3eba127b-9b0f-47fb-be61-f683b6957cd6",
   "metadata": {},
   "outputs": [
    {
     "name": "stdout",
     "output_type": "stream",
     "text": [
      "[['2', '3', '4', '5', '6', '7', '8', '9', '10', 'J', 'Q', 'K', 'A'], ['2', '3', '4', '5', '6', '7', '8', '9', '10', 'J', 'Q', 'K', 'A'], ['2', '3', '4', '5', '6', '7', '8', '9', '10', 'J', 'Q', 'K', 'A'], ['2', '3', '4', '5', '6', '7', '8', '9', '10', 'J', 'Q', 'K', 'A']]\n"
     ]
    }
   ],
   "source": [
    "prac_result6 = [prac_result4 for z in range(4)] \n",
    "print(prac_result6)"
   ]
  },
  {
   "cell_type": "code",
   "execution_count": 295,
   "id": "71633f66-704e-402c-ad15-057ecb8e2009",
   "metadata": {},
   "outputs": [
    {
     "name": "stdout",
     "output_type": "stream",
     "text": [
      "['two', '3', '4', '5', '6', '7', '8', '9', '10', 'J', 'Q', 'K', 'A']\n"
     ]
    }
   ],
   "source": [
    "prac_result4[0] = 'two'\n",
    "print(prac_result4)"
   ]
  },
  {
   "cell_type": "code",
   "execution_count": 296,
   "id": "d5be66ae-4554-4169-8c13-a14ad90667c5",
   "metadata": {},
   "outputs": [
    {
     "name": "stdout",
     "output_type": "stream",
     "text": [
      "[['two', '3', '4', '5', '6', '7', '8', '9', '10', 'J', 'Q', 'K', 'A'], ['two', '3', '4', '5', '6', '7', '8', '9', '10', 'J', 'Q', 'K', 'A'], ['two', '3', '4', '5', '6', '7', '8', '9', '10', 'J', 'Q', 'K', 'A'], ['two', '3', '4', '5', '6', '7', '8', '9', '10', 'J', 'Q', 'K', 'A']]\n"
     ]
    }
   ],
   "source": [
    "print(prac_result5)"
   ]
  },
  {
   "cell_type": "code",
   "execution_count": 302,
   "id": "f60a828f-97f9-43e4-8c37-dbe738dee398",
   "metadata": {},
   "outputs": [
    {
     "name": "stdout",
     "output_type": "stream",
     "text": [
      "prac_result4의 id: 2461565418368\n",
      "prac_result5[0] : 2461565418368\n",
      "prac_result5[1] : 2461565418368\n",
      "prac_result5[2] : 2461565418368\n",
      "prac_result5[3] : 2461565418368\n"
     ]
    }
   ],
   "source": [
    "# 객체를 담는 변수의 특징\n",
    "\n",
    "print(\"prac_result4의 id:\", id(prac_result4))\n",
    "\n",
    "for i, v in enumerate(prac_result5):\n",
    "    print(\"prac_result5[\", i, \"] : \", id(v), sep=\"\")\n",
    "    \n",
    "# 리스트변수[:] -> 새로운 객체를 만들어 반환한다."
   ]
  },
  {
   "cell_type": "code",
   "execution_count": 4,
   "id": "c4dda7c6-fbee-4231-99b8-9f9c357d3688",
   "metadata": {},
   "outputs": [
    {
     "name": "stdout",
     "output_type": "stream",
     "text": [
      "2279943691520\n",
      "2279944507520\n",
      "False\n",
      "True\n"
     ]
    }
   ],
   "source": [
    "old_list = list(range(10))\n",
    "new_list = old_list[:]\n",
    "\n",
    "print(id(old_list))\n",
    "print(id(new_list))\n",
    "print(old_list is new_list)\n",
    "print(old_list == new_list)\n",
    "\n",
    "#두 리스트가 값 자체는 같으나 객체는 다르다. / 객체는 다르지만 값은 같음."
   ]
  },
  {
   "cell_type": "code",
   "execution_count": 5,
   "id": "c348cbf4-ad3e-46f1-baef-9b7483499ba0",
   "metadata": {},
   "outputs": [
    {
     "name": "stdout",
     "output_type": "stream",
     "text": [
      "[0, 1, 8, 27, 64, 125, 216, 343, 512, 729]\n"
     ]
    }
   ],
   "source": [
    "# 리스트 컴프리헨션\n",
    "\n",
    "list_d = list(i**3 for i in range(10))\n",
    "print(list_d)"
   ]
  },
  {
   "cell_type": "code",
   "execution_count": 6,
   "id": "8a709c3e-f6ff-463e-87d9-def3d283118b",
   "metadata": {},
   "outputs": [
    {
     "name": "stdout",
     "output_type": "stream",
     "text": [
      "[0, 1, 2, 3, 4, 5, 6, 7, 8, 9]\n"
     ]
    }
   ],
   "source": [
    "list_e = [i for i in range(10)]\n",
    "print(list_e)"
   ]
  },
  {
   "cell_type": "code",
   "execution_count": 7,
   "id": "f86b820c-e0f1-4023-872f-d2a0ec6695e8",
   "metadata": {},
   "outputs": [],
   "source": [
    "list_f =  list_e"
   ]
  },
  {
   "cell_type": "code",
   "execution_count": 8,
   "id": "113691f7-f73a-47e0-bb76-5a2561b764f7",
   "metadata": {},
   "outputs": [
    {
     "name": "stdout",
     "output_type": "stream",
     "text": [
      "[0, 1, 2, 3, 4, 5, 6, 7, 8, 9]\n"
     ]
    }
   ],
   "source": [
    "print(list_f)"
   ]
  },
  {
   "cell_type": "code",
   "execution_count": 9,
   "id": "4d4e93e7-ddba-49d7-b0b5-15dfd5e72bb6",
   "metadata": {},
   "outputs": [
    {
     "name": "stdout",
     "output_type": "stream",
     "text": [
      "2279944509248\n",
      "2279944509248\n"
     ]
    }
   ],
   "source": [
    "print(id(list_e))\n",
    "print(id(list_f))"
   ]
  },
  {
   "cell_type": "code",
   "execution_count": 11,
   "id": "64157e6f-27a7-471a-91c5-963de8dd1738",
   "metadata": {},
   "outputs": [
    {
     "name": "stdout",
     "output_type": "stream",
     "text": [
      "2279944396864\n",
      "2279944165312\n",
      "False\n"
     ]
    }
   ],
   "source": [
    "#리스트 복사 (copy() 메서드)\n",
    "\n",
    "list_g = list(range(10))\n",
    "list_h = list_g.copy()\n",
    "print(id(list_g))\n",
    "print(id(list_h))\n",
    "print(list_g is list_h)"
   ]
  },
  {
   "cell_type": "code",
   "execution_count": 12,
   "id": "84929d43-03c3-4a58-8244-5ba38e74e031",
   "metadata": {},
   "outputs": [
    {
     "name": "stdout",
     "output_type": "stream",
     "text": [
      "[999, 1, 2, 3, 4, 5, 6, 7, 8, 9]\n",
      "[0, 1, 2, 3, 4, 5, 6, 7, 8, 9]\n"
     ]
    }
   ],
   "source": [
    "list_g[0] = 999\n",
    "print(list_g)\n",
    "print(list_h)"
   ]
  },
  {
   "cell_type": "code",
   "execution_count": 13,
   "id": "03809c63-f4f0-4f50-a461-208d55dc0dd6",
   "metadata": {},
   "outputs": [],
   "source": [
    "# 얕은 복사\n",
    "\n",
    "list_i = [[0]] * 3"
   ]
  },
  {
   "cell_type": "code",
   "execution_count": 14,
   "id": "6f2813bd-5b3a-40b1-8d11-74535e6b08d4",
   "metadata": {},
   "outputs": [
    {
     "name": "stdout",
     "output_type": "stream",
     "text": [
      "[[0], [0], [0]]\n"
     ]
    }
   ],
   "source": [
    "print(list_i)"
   ]
  },
  {
   "cell_type": "code",
   "execution_count": 16,
   "id": "53ef133f-dfff-4f8e-b5a2-cceffd0d4039",
   "metadata": {},
   "outputs": [],
   "source": [
    "list_i[0][0] = 999"
   ]
  },
  {
   "cell_type": "code",
   "execution_count": 18,
   "id": "166d33ea-f3e5-4bd2-9140-8b124832e65d",
   "metadata": {},
   "outputs": [
    {
     "name": "stdout",
     "output_type": "stream",
     "text": [
      "[[999], [999], [999]]\n"
     ]
    }
   ],
   "source": [
    "print(list_i)"
   ]
  },
  {
   "cell_type": "code",
   "execution_count": 19,
   "id": "a4b7285e-1bb3-47ed-b0c5-09bd9751da2d",
   "metadata": {},
   "outputs": [],
   "source": [
    "# 단 하나의 요소만 바꿨을 뿐인데 모든 요소의 값이 변경된것을 알 수 있다.\n",
    "# 요소가 객체로 되어있으면 메모리 주소만 복사하는 것을 얕은 복사라고 한다."
   ]
  },
  {
   "cell_type": "code",
   "execution_count": 1,
   "id": "eb14d67d-4be9-4237-b6b7-c053de1284a6",
   "metadata": {},
   "outputs": [],
   "source": [
    "# 앞서 *뿐만아니라 슬라이싱, copy() 메서드를 통한 복사도 얕은 복사입니다."
   ]
  },
  {
   "cell_type": "code",
   "execution_count": 10,
   "id": "940d09b5-ea85-4350-afd5-3d0d105abcd9",
   "metadata": {},
   "outputs": [
    {
     "name": "stdout",
     "output_type": "stream",
     "text": [
      "[0, 1, 2, 3, 4, 5, 6, 7, 8, 9]\n"
     ]
    }
   ],
   "source": [
    "# 리스트 변수를 다른 변수에 할당해서 복사한 경우 객체가 아예 같다고 나온다.\n",
    "\n",
    "list_e = [i for i in range(10)]\n",
    "print(list_e)"
   ]
  },
  {
   "cell_type": "code",
   "execution_count": 11,
   "id": "e99ce15a-1243-48f1-9832-b7d0f5591d03",
   "metadata": {},
   "outputs": [],
   "source": [
    "list_f = list_e"
   ]
  },
  {
   "cell_type": "code",
   "execution_count": 12,
   "id": "df534d15-16af-457e-b424-78500057de1d",
   "metadata": {},
   "outputs": [
    {
     "name": "stdout",
     "output_type": "stream",
     "text": [
      "[0, 1, 2, 3, 4, 5, 6, 7, 8, 9]\n"
     ]
    }
   ],
   "source": [
    "print(list_f)"
   ]
  },
  {
   "cell_type": "code",
   "execution_count": 13,
   "id": "c847a665-05a3-4d0e-9c5b-9d36b18e9305",
   "metadata": {},
   "outputs": [
    {
     "name": "stdout",
     "output_type": "stream",
     "text": [
      "1872527521088\n",
      "1872527521088\n"
     ]
    }
   ],
   "source": [
    "print(id(list_e))\n",
    "print(id(list_f))"
   ]
  },
  {
   "cell_type": "code",
   "execution_count": 15,
   "id": "75a55339-1e7d-4412-a3ff-2298628ac2f8",
   "metadata": {},
   "outputs": [
    {
     "name": "stdout",
     "output_type": "stream",
     "text": [
      "True\n",
      "True\n"
     ]
    }
   ],
   "source": [
    "print(list_e is list_f)\n",
    "print(list_e== list_f)"
   ]
  },
  {
   "cell_type": "code",
   "execution_count": 18,
   "id": "fefa2d64-7030-4e70-a25a-9200eaa0ea8d",
   "metadata": {},
   "outputs": [
    {
     "name": "stdout",
     "output_type": "stream",
     "text": [
      "1872527598272\n",
      "1872527583552\n",
      "False\n"
     ]
    }
   ],
   "source": [
    "# 리스트.copy() 메서드는 리스트 객체를 새롭게 복사한 것으로 값은 같지만 서로 다른 객체이다.\n",
    "# 요소를 변경할 경우 \n",
    "list_g = list(range(10))\n",
    "list_h = list_g.copy()\n",
    "print(id(list_g))\n",
    "print(id(list_h))\n",
    "print(list_g is list_h)"
   ]
  },
  {
   "cell_type": "code",
   "execution_count": 19,
   "id": "ced88537-fa4f-4e5d-9b87-b1742967a31a",
   "metadata": {},
   "outputs": [
    {
     "name": "stdout",
     "output_type": "stream",
     "text": [
      "[[0], [0], [0]]\n"
     ]
    }
   ],
   "source": [
    "# 얕은 복사와 깊은 복사는 리스트안의 리스트가 있는 경우에만 고려\n",
    "\n",
    "list_i = [[0]] * 3\n",
    "print(list_i)\n"
   ]
  },
  {
   "cell_type": "code",
   "execution_count": 21,
   "id": "8bf3dca2-980a-4ca7-afc5-2ccfa7c53d3e",
   "metadata": {},
   "outputs": [
    {
     "name": "stdout",
     "output_type": "stream",
     "text": [
      "[[999], [999], [999]]\n"
     ]
    }
   ],
   "source": [
    "list_i[0][0] = 999\n",
    "print(list_i)"
   ]
  },
  {
   "cell_type": "code",
   "execution_count": 22,
   "id": "771c4b65-2a7c-4106-a134-8e4b98b02cb7",
   "metadata": {},
   "outputs": [],
   "source": [
    "# 리스트 안의 리스트는 같은 주소값을 갖고 있구나."
   ]
  },
  {
   "cell_type": "code",
   "execution_count": 24,
   "id": "41ff5117-2aaa-4e40-ba18-6f3ae7506663",
   "metadata": {},
   "outputs": [
    {
     "name": "stdout",
     "output_type": "stream",
     "text": [
      "[[0], [0], [0]]\n"
     ]
    }
   ],
   "source": [
    "a = [[0]] *3\n",
    "print(a)"
   ]
  },
  {
   "cell_type": "code",
   "execution_count": 25,
   "id": "231dba68-20ad-4838-8401-d84203bd7eaf",
   "metadata": {},
   "outputs": [
    {
     "name": "stdout",
     "output_type": "stream",
     "text": [
      "1872444877072\n",
      "1872444877072\n",
      "1872444877072\n"
     ]
    }
   ],
   "source": [
    "print(id(a[0][0]))\n",
    "print(id(a[1][0]))\n",
    "print(id(a[2][0]))"
   ]
  },
  {
   "cell_type": "code",
   "execution_count": 26,
   "id": "777a683f-497a-4cc2-a88e-f4563b138287",
   "metadata": {},
   "outputs": [],
   "source": [
    "row = [0]\n",
    "a = []\n",
    "for i in range(3):\n",
    "    a.append(row)"
   ]
  },
  {
   "cell_type": "code",
   "execution_count": 31,
   "id": "72def320-6d50-4653-8ed1-8d20d8b1d339",
   "metadata": {},
   "outputs": [
    {
     "name": "stdout",
     "output_type": "stream",
     "text": [
      "1872527630400\n",
      "1872527630400\n",
      "1872527630400\n"
     ]
    }
   ],
   "source": [
    "print(id(a[0]))\n",
    "print(id(a[1]))\n",
    "print(id(a[2]))"
   ]
  },
  {
   "cell_type": "code",
   "execution_count": 32,
   "id": "4d4bf169-4c42-4836-8170-22ee77f37104",
   "metadata": {},
   "outputs": [],
   "source": [
    "b = []\n",
    "for i in range(3):\n",
    "    row = [0] # for문이 반복될 때마다 새롭게 생성되는 변수입니다.\n",
    "    b.append(row)\n",
    "    "
   ]
  },
  {
   "cell_type": "code",
   "execution_count": 33,
   "id": "18261012-09e7-4e8f-981e-c4f633afedf9",
   "metadata": {},
   "outputs": [
    {
     "name": "stdout",
     "output_type": "stream",
     "text": [
      "1872527631104\n",
      "1872527629888\n",
      "1872527598528\n"
     ]
    }
   ],
   "source": [
    "print(id(b[0]))\n",
    "print(id(b[1]))\n",
    "print(id(b[2]))"
   ]
  },
  {
   "cell_type": "code",
   "execution_count": 37,
   "id": "b55d4356-ef4f-4414-906a-1a96a1e41b7a",
   "metadata": {},
   "outputs": [
    {
     "name": "stdout",
     "output_type": "stream",
     "text": [
      "1872445073808\n",
      "1872445073808\n"
     ]
    },
    {
     "data": {
      "text/plain": [
       "True"
      ]
     },
     "execution_count": 37,
     "metadata": {},
     "output_type": "execute_result"
    }
   ],
   "source": [
    "e = 256\n",
    "f = 256\n",
    "print(id(e))\n",
    "print(id(f))\n",
    "e is f"
   ]
  },
  {
   "cell_type": "code",
   "execution_count": 38,
   "id": "78a7db7e-ebc0-47a2-900f-7c8d2f79b1db",
   "metadata": {},
   "outputs": [
    {
     "name": "stdout",
     "output_type": "stream",
     "text": [
      "1872527556944\n",
      "1872527557712\n"
     ]
    },
    {
     "data": {
      "text/plain": [
       "False"
      ]
     },
     "execution_count": 38,
     "metadata": {},
     "output_type": "execute_result"
    }
   ],
   "source": [
    "g = 257\n",
    "h = 257\n",
    "print(id(g))\n",
    "print(id(h))\n",
    "g is h"
   ]
  },
  {
   "cell_type": "code",
   "execution_count": 49,
   "id": "297e7c38-b18e-4862-a275-7b47cd224e38",
   "metadata": {},
   "outputs": [
    {
     "name": "stdout",
     "output_type": "stream",
     "text": [
      "False\n"
     ]
    }
   ],
   "source": [
    "# 얕은복사\n",
    "\n",
    "list_l = [[5,6], [7,8]]\n",
    "list_m = list_l.copy()\n",
    "print(list_l is list_m)"
   ]
  },
  {
   "cell_type": "code",
   "execution_count": 50,
   "id": "b0bf8797-2c59-4e8e-9f58-3437126bc270",
   "metadata": {},
   "outputs": [
    {
     "name": "stdout",
     "output_type": "stream",
     "text": [
      "False\n"
     ]
    }
   ],
   "source": [
    "# 깊은복사 / deepcopy()를 위해 copy라는 라이브러리가 필요\n",
    "\n",
    "import copy\n",
    "list_n = [[9,10], [11,12]]\n",
    "list_o = copy.deepcopy(list_n)\n",
    "print(list_n is list_o[0])"
   ]
  },
  {
   "cell_type": "code",
   "execution_count": 51,
   "id": "381898b1-4054-4aa0-9263-1e4a1ede8f73",
   "metadata": {},
   "outputs": [],
   "source": [
    "# 일반적으로 얕은복사가 사용되며 리스트 안의 리스트가 중첩되었을 경우\n",
    "# 값이 다르게 나올 수 있으므로 리스트안의 리스트까지 전부 다른 객체로 \n",
    "# 받아들이기 위해서는 깊은복사를 사용해야한다."
   ]
  },
  {
   "cell_type": "code",
   "execution_count": 53,
   "id": "863a09e3-3bc8-4a60-bbee-cb4a3cfd51a1",
   "metadata": {},
   "outputs": [],
   "source": [
    "# list_variable = [expression for 변수 in iterable if 조건식]"
   ]
  },
  {
   "cell_type": "code",
   "execution_count": 54,
   "id": "d9dd9237-f503-44a4-8945-6f30be0b9ef6",
   "metadata": {},
   "outputs": [
    {
     "name": "stdout",
     "output_type": "stream",
     "text": [
      "[0, 3, 6, 9]\n"
     ]
    }
   ],
   "source": [
    "list_p = [i for i in range(10) if i % 3 == 0]\n",
    "print(list_p)"
   ]
  },
  {
   "cell_type": "code",
   "execution_count": 55,
   "id": "693b27dd-8e9b-41dc-bfae-da11c2a770b4",
   "metadata": {},
   "outputs": [],
   "source": [
    "# list_variable = [expression for 변수 in iterable for 변수 in iterable]"
   ]
  },
  {
   "cell_type": "code",
   "execution_count": 57,
   "id": "cc184ec2-c0b0-4ae8-b5eb-2242dd21d402",
   "metadata": {},
   "outputs": [
    {
     "name": "stdout",
     "output_type": "stream",
     "text": [
      "[(1, 3), (1, 4), (1, 5), (2, 3), (2, 4), (2, 5), (3, 3), (3, 4), (3, 5)]\n"
     ]
    }
   ],
   "source": [
    "list_k = [(a,b) for a in range(1,4)\n",
    "          for b in range(3,6)]    #가독성을 위해 줄바꿈하면 좋음\n",
    "print(list_k)"
   ]
  },
  {
   "cell_type": "code",
   "execution_count": 58,
   "id": "4cc50389-d041-4239-8eea-98cbd0420e72",
   "metadata": {},
   "outputs": [
    {
     "name": "stdout",
     "output_type": "stream",
     "text": [
      "1\n",
      "2\n",
      "3\n",
      "4\n",
      "5\n",
      "3\n",
      "4\n"
     ]
    }
   ],
   "source": [
    "easy_list = [[1, 2, 3, 4, 5], [3, 4]]\n",
    "for item in easy_list:\n",
    "    for i in item:\n",
    "        print(i)"
   ]
  },
  {
   "cell_type": "code",
   "execution_count": 59,
   "id": "e1468d67-630a-4eb2-81d1-22b47252f79c",
   "metadata": {},
   "outputs": [
    {
     "name": "stdout",
     "output_type": "stream",
     "text": [
      "1\n",
      "2\n",
      "3\n",
      "4\n",
      "5\n",
      "3\n",
      "4\n"
     ]
    }
   ],
   "source": [
    "easy_list = [[1, 2, 3, 4, 5], [3, 4]]\n",
    "i = 0\n",
    "\n",
    "while i < len(easy_list):\n",
    "    j = 0\n",
    "    while j < len(easy_list[i]):\n",
    "        print(easy_list[i][j])\n",
    "        j += 1\n",
    "    i += 1"
   ]
  },
  {
   "cell_type": "code",
   "execution_count": 60,
   "id": "02dbeb31-f5ac-4e85-8b52-27e3c5892f3a",
   "metadata": {},
   "outputs": [
    {
     "data": {
      "text/plain": [
       "generator"
      ]
     },
     "execution_count": 60,
     "metadata": {},
     "output_type": "execute_result"
    }
   ],
   "source": [
    "# 제너레이터 컴프리헨션\n",
    "\n",
    "gen = (i for i in range(10))\n",
    "type(gen)"
   ]
  },
  {
   "cell_type": "code",
   "execution_count": 61,
   "id": "17ccda36-9e84-471c-9f1e-a3c4247f6fd0",
   "metadata": {},
   "outputs": [
    {
     "name": "stdout",
     "output_type": "stream",
     "text": [
      "<class 'generator'>\n"
     ]
    }
   ],
   "source": [
    "print(type(gen))"
   ]
  },
  {
   "cell_type": "code",
   "execution_count": 62,
   "id": "8a3c326c-f112-479a-9716-841ed3cde5dc",
   "metadata": {},
   "outputs": [
    {
     "data": {
      "text/plain": [
       "(0, 1, 2, 3, 4, 5, 6, 7, 8, 9)"
      ]
     },
     "execution_count": 62,
     "metadata": {},
     "output_type": "execute_result"
    }
   ],
   "source": [
    "tuple(gen)"
   ]
  },
  {
   "cell_type": "code",
   "execution_count": 63,
   "id": "bfaf617a-adaa-4dcb-9706-ea29d1aca8c7",
   "metadata": {},
   "outputs": [
    {
     "data": {
      "text/plain": [
       "tuple"
      ]
     },
     "execution_count": 63,
     "metadata": {},
     "output_type": "execute_result"
    }
   ],
   "source": [
    "type(tuple(gen))"
   ]
  },
  {
   "cell_type": "code",
   "execution_count": 64,
   "id": "8d46c371-b13d-4405-926d-e66013410424",
   "metadata": {},
   "outputs": [
    {
     "data": {
      "text/plain": [
       "[]"
      ]
     },
     "execution_count": 64,
     "metadata": {},
     "output_type": "execute_result"
    }
   ],
   "source": [
    "list(gen)"
   ]
  },
  {
   "cell_type": "code",
   "execution_count": 65,
   "id": "68ea7dae-d7fa-436f-9aec-380b6c5e31bd",
   "metadata": {},
   "outputs": [
    {
     "data": {
      "text/plain": [
       "list"
      ]
     },
     "execution_count": 65,
     "metadata": {},
     "output_type": "execute_result"
    }
   ],
   "source": [
    "type(list(gen))"
   ]
  },
  {
   "cell_type": "code",
   "execution_count": 100,
   "id": "50937cfa-35e5-4410-92a1-62669457fb28",
   "metadata": {},
   "outputs": [
    {
     "name": "stdout",
     "output_type": "stream",
     "text": [
      "['alpha', 'bravo', 'delta', 'hotel', 'india']\n"
     ]
    }
   ],
   "source": [
    "a = ['alpha', 'bravo', 'charlie', 'delta', 'echo', 'foxtrot', 'golf', 'hotel', 'india']\n",
    "b = [i for i in a if len(i) == 5]\n",
    "print(b)\n",
    "\n"
   ]
  },
  {
   "cell_type": "code",
   "execution_count": 136,
   "id": "6b5b6e4d-35d2-4dc1-8217-669a6fe62c0d",
   "metadata": {},
   "outputs": [
    {
     "name": "stdin",
     "output_type": "stream",
     "text": [
      "정수 두 개 입력하세요: 99 1\n"
     ]
    },
    {
     "name": "stdout",
     "output_type": "stream",
     "text": [
      "첫번째 값의 범위는 1 ~ 20입니다.\n"
     ]
    },
    {
     "name": "stdin",
     "output_type": "stream",
     "text": [
      "정수 두 개 입력하세요: 20 50\n"
     ]
    },
    {
     "name": "stdout",
     "output_type": "stream",
     "text": [
      "두번째 값의 범위는 10 ~ 30입니다.\n"
     ]
    },
    {
     "name": "stdin",
     "output_type": "stream",
     "text": [
      "정수 두 개 입력하세요: 20 10\n"
     ]
    },
    {
     "name": "stdout",
     "output_type": "stream",
     "text": [
      "첫 번째 입력 값은 두 번째 입력 값보다 작게 입력하세요.\n"
     ]
    },
    {
     "name": "stdin",
     "output_type": "stream",
     "text": [
      "정수 두 개 입력하세요: 10 20\n"
     ]
    },
    {
     "name": "stdout",
     "output_type": "stream",
     "text": [
      "[1024, 4096, 8192, 16384, 32768, 65536, 131072, 262144, 1048576]\n"
     ]
    }
   ],
   "source": [
    "while True:\n",
    "    num1, num2 = map(int, input(\"정수 두 개 입력하세요:\").split(\" \"))\n",
    "    if num1 > 20 or num1 < 1:\n",
    "        print(\"첫번째 값의 범위는 1 ~ 20입니다.\")\n",
    "    elif num2 < 10 or num2 > 30:\n",
    "        print(\"두번째 값의 범위는 10 ~ 30입니다.\")\n",
    "    elif num1 > num2:\n",
    "        print(\"첫 번째 입력 값은 두 번째 입력 값보다 작게 입력하세요.\")\n",
    "    else:\n",
    "        result = [2**i for i in range(num1, num2 + 1)]\n",
    "        del result[1]\n",
    "        del result[-2]\n",
    "        print(result)\n",
    "        break\n",
    "        \n"
   ]
  },
  {
   "cell_type": "code",
   "execution_count": 173,
   "id": "2dfc3860-f6c1-48ed-b2de-430072badb66",
   "metadata": {},
   "outputs": [
    {
     "name": "stdin",
     "output_type": "stream",
     "text": [
      "2부터 입력하신 수까지의 모든 소수를 찾는 프로그램입니다.\n",
      "찾는 범위를 입력하세요: 100\n"
     ]
    },
    {
     "name": "stdout",
     "output_type": "stream",
     "text": [
      "[]\n"
     ]
    }
   ],
   "source": [
    "a = int(input(\"\"\"2부터 입력하신 수까지의 모든 소수를 찾는 프로그램입니다.\n",
    "찾는 범위를 입력하세요:\"\"\"))\n",
    "j = 2\n",
    "result1 = [i for i in range(2, a + 1) if i // j == 0]  \n",
    "print(result1)"
   ]
  },
  {
   "cell_type": "code",
   "execution_count": 171,
   "id": "d5c5dbe4-61c5-44d3-8800-5c92fdec2b3b",
   "metadata": {},
   "outputs": [
    {
     "name": "stdin",
     "output_type": "stream",
     "text": [
      "2부터 입력하신 수까지의 모든 소수를 찾는 프로그램입니다.\n",
      "찾는 범위를 입력하세요: 100\n"
     ]
    },
    {
     "name": "stdout",
     "output_type": "stream",
     "text": [
      "2 3 5 7 11 13 17 \n",
      "19 23 29 31 37 41 43 \n",
      "47 53 59 61 67 71 73 \n",
      "79 83 89 97 "
     ]
    }
   ],
   "source": [
    "b = int(input(\"\"\"2부터 입력하신 수까지의 모든 소수를 찾는 프로그램입니다.\n",
    "찾는 범위를 입력하세요:\"\"\"))\n",
    "\n",
    "i = 2\n",
    "line = 0\n",
    "while i <= b:\n",
    "    j = 2\n",
    "    while j <= i:\n",
    "        if i % j == 0:\n",
    "            break\n",
    "        j += 1\n",
    "    if i == j:\n",
    "        print(i, end = \" \")\n",
    "        line = line + 1\n",
    "        if line == 7:\n",
    "            line = 0\n",
    "            print()\n",
    "    i+=1\n",
    "   "
   ]
  },
  {
   "cell_type": "code",
   "execution_count": 180,
   "id": "a4024a2b-f06a-41e4-8bf7-47364657b115",
   "metadata": {},
   "outputs": [
    {
     "name": "stdout",
     "output_type": "stream",
     "text": [
      "[96, 29, 9, 14, 22, 16, 63]\n"
     ]
    }
   ],
   "source": [
    "import random\n",
    "random_list = [random.randint(1, 99) for _ in range(7)]\n",
    "print(random_list)"
   ]
  },
  {
   "cell_type": "code",
   "execution_count": 195,
   "id": "049a23d1-219e-4b14-85dc-1cc418e0a9b6",
   "metadata": {},
   "outputs": [
    {
     "name": "stdin",
     "output_type": "stream",
     "text": [
      "숫자를 입력하세요: 50\n"
     ]
    },
    {
     "name": "stdout",
     "output_type": "stream",
     "text": [
      "그보다 큽니다.\n"
     ]
    },
    {
     "name": "stdin",
     "output_type": "stream",
     "text": [
      "숫자를 입력하세요: 80\n"
     ]
    },
    {
     "name": "stdout",
     "output_type": "stream",
     "text": [
      "그보다 큽니다.\n"
     ]
    },
    {
     "name": "stdin",
     "output_type": "stream",
     "text": [
      "숫자를 입력하세요: 90\n"
     ]
    },
    {
     "name": "stdout",
     "output_type": "stream",
     "text": [
      "그보다 작습니다.\n"
     ]
    },
    {
     "name": "stdin",
     "output_type": "stream",
     "text": [
      "숫자를 입력하세요: 88\n"
     ]
    },
    {
     "name": "stdout",
     "output_type": "stream",
     "text": [
      "그보다 작습니다.\n"
     ]
    },
    {
     "name": "stdin",
     "output_type": "stream",
     "text": [
      "숫자를 입력하세요: 87\n"
     ]
    },
    {
     "name": "stdout",
     "output_type": "stream",
     "text": [
      "그보다 작습니다.\n"
     ]
    },
    {
     "name": "stdin",
     "output_type": "stream",
     "text": [
      "숫자를 입력하세요: 83\n"
     ]
    },
    {
     "name": "stdout",
     "output_type": "stream",
     "text": [
      "그보다 큽니다.\n"
     ]
    },
    {
     "name": "stdin",
     "output_type": "stream",
     "text": [
      "숫자를 입력하세요: 85\n"
     ]
    },
    {
     "name": "stdout",
     "output_type": "stream",
     "text": [
      "그보다 큽니다.\n"
     ]
    },
    {
     "name": "stdin",
     "output_type": "stream",
     "text": [
      "숫자를 입력하세요: 86\n"
     ]
    },
    {
     "name": "stdout",
     "output_type": "stream",
     "text": [
      "맞췄습니다!\n"
     ]
    },
    {
     "ename": "TypeError",
     "evalue": "can only join an iterable",
     "output_type": "error",
     "traceback": [
      "\u001b[1;31m---------------------------------------------------------------------------\u001b[0m",
      "\u001b[1;31mTypeError\u001b[0m                                 Traceback (most recent call last)",
      "\u001b[1;32m~\\AppData\\Local\\Temp\\ipykernel_7188\\3519564844.py\u001b[0m in \u001b[0;36m<module>\u001b[1;34m\u001b[0m\n\u001b[0;32m     15\u001b[0m         \u001b[0mprint\u001b[0m\u001b[1;33m(\u001b[0m\u001b[1;34m\"맞췄습니다!\"\u001b[0m\u001b[1;33m)\u001b[0m\u001b[1;33m\u001b[0m\u001b[1;33m\u001b[0m\u001b[0m\n\u001b[0;32m     16\u001b[0m         \u001b[1;32mbreak\u001b[0m\u001b[1;33m\u001b[0m\u001b[1;33m\u001b[0m\u001b[0m\n\u001b[1;32m---> 17\u001b[1;33m \u001b[0mprint\u001b[0m\u001b[1;33m(\u001b[0m\u001b[1;34m\"입력한 숫자는 다음과 같습니다.\"\u001b[0m\u001b[1;33m,\u001b[0m \u001b[1;34m\",\"\u001b[0m\u001b[1;33m.\u001b[0m\u001b[0mjoin\u001b[0m\u001b[1;33m(\u001b[0m\u001b[0ma\u001b[0m\u001b[1;33m)\u001b[0m\u001b[1;33m)\u001b[0m\u001b[1;33m\u001b[0m\u001b[1;33m\u001b[0m\u001b[0m\n\u001b[0m",
      "\u001b[1;31mTypeError\u001b[0m: can only join an iterable"
     ]
    }
   ],
   "source": [
    "import random\n",
    "\n",
    "\n",
    "random = random.randint(1,100)\n",
    "a = []\n",
    "while True:\n",
    "    a = int(input(\"숫자를 입력하세요:\"))\n",
    "    if a > random:\n",
    "        print(\"그보다 작습니다.\")\n",
    "    elif a < random:\n",
    "        print(\"그보다 큽니다.\")\n",
    "    elif a < 1 or a > 100:\n",
    "        print(\"1 ~ 100 사이의 숫자를 입력하세요.\")\n",
    "    elif a == random:\n",
    "        print(\"맞췄습니다!\")\n",
    "        break\n",
    "print(\"입력한 숫자는 다음과 같습니다.\", \",\".join(a))"
   ]
  },
  {
   "cell_type": "code",
   "execution_count": 197,
   "id": "e3c3b582-e775-44d7-bc5f-28abf4ccf9f5",
   "metadata": {},
   "outputs": [
    {
     "name": "stdout",
     "output_type": "stream",
     "text": [
      "set() <class 'set'>\n"
     ]
    }
   ],
   "source": [
    "# 세트 자료형\n",
    "# 비시퀀스형 = 순서가 없다. / 중복되는 값이 없다.\n",
    "\n",
    "set_variable = set()\n",
    "print(set_variable, type(set_variable))"
   ]
  },
  {
   "cell_type": "code",
   "execution_count": 203,
   "id": "1d8ab08d-29ef-42a0-a311-f3e02d760d45",
   "metadata": {},
   "outputs": [
    {
     "name": "stdout",
     "output_type": "stream",
     "text": [
      "{1, 2, 3, 5, 6}\n"
     ]
    }
   ],
   "source": [
    "# 정수 1값을 set_variable에 5차례 넣습니다.\n",
    "[set_variable.add(6) for _ in range(5)]\n",
    "\n",
    "# 출력하면 중복된 값 없이 요소를 갖는 걸 볼 수 있습니다.\n",
    "print(set_variable)"
   ]
  },
  {
   "cell_type": "code",
   "execution_count": 204,
   "id": "3ca811f8-114f-4a52-a951-19504d1723fe",
   "metadata": {},
   "outputs": [
    {
     "name": "stdout",
     "output_type": "stream",
     "text": [
      "{1, 3, 5, 6}\n"
     ]
    }
   ],
   "source": [
    "set_variable.remove(2)\n",
    "print(set_variable)"
   ]
  },
  {
   "cell_type": "code",
   "execution_count": 206,
   "id": "bb2af377-373f-48dd-b3c6-2c36b2586dbe",
   "metadata": {},
   "outputs": [
    {
     "name": "stdout",
     "output_type": "stream",
     "text": [
      "{1, 5, 6}\n"
     ]
    }
   ],
   "source": [
    "set_variable.discard(3)\n",
    "print(set_variable)"
   ]
  },
  {
   "cell_type": "code",
   "execution_count": 208,
   "id": "bb27b979-4e4c-4456-bed7-7c2d55933542",
   "metadata": {},
   "outputs": [
    {
     "name": "stdout",
     "output_type": "stream",
     "text": [
      "{1, 5, 6}\n"
     ]
    }
   ],
   "source": [
    "set_variable.discard('없음')\n",
    "print(set_variable)"
   ]
  },
  {
   "cell_type": "code",
   "execution_count": 210,
   "id": "bc473aed-32e6-4333-a097-202beb863390",
   "metadata": {},
   "outputs": [
    {
     "name": "stdout",
     "output_type": "stream",
     "text": [
      "A: {1, 2, 3, 4} \n",
      "B: {2, 4, 5}\n",
      "set.union(A, B): {1, 2, 3, 4, 5}\n",
      "A | B {1, 2, 3, 4, 5}\n"
     ]
    }
   ],
   "source": [
    "A = {_ for _ in range(1, 5)}\n",
    "B = {_ for _ in range(2, 6) if _ != 3}\n",
    "print(\"A:\", A, \"\\nB:\", B)\n",
    "print(\"set.union(A, B):\", set.union(A, B))\n",
    "print(\"A | B\", A | B)"
   ]
  },
  {
   "cell_type": "code",
   "execution_count": 213,
   "id": "ea60de4c-2666-4616-b2d6-1bc333e8945d",
   "metadata": {},
   "outputs": [
    {
     "name": "stdout",
     "output_type": "stream",
     "text": [
      "A: {1, 2, 3, 4} \n",
      "B: {2, 4, 5}\n",
      "set.intersection(A, B): {2, 4}\n",
      "A & B {2, 4}\n"
     ]
    }
   ],
   "source": [
    "A = {_ for _ in range(1, 5)}\n",
    "B = {_ for _ in range(2, 6) if _ != 3}\n",
    "print(\"A:\", A, \"\\nB:\", B)\n",
    "print(\"set.intersection(A, B):\", set.intersection(A, B))\n",
    "print(\"A & B\", A & B)"
   ]
  },
  {
   "cell_type": "code",
   "execution_count": 212,
   "id": "770e2ea9-4515-4a00-8472-96da220d5fe9",
   "metadata": {},
   "outputs": [
    {
     "name": "stdout",
     "output_type": "stream",
     "text": [
      "A: {1, 2, 3, 4} \n",
      "B: {2, 4, 5}\n",
      "set.difference(A, B): {1, 3}\n",
      "A - B {1, 3}\n"
     ]
    }
   ],
   "source": [
    "A = {_ for _ in range(1, 5)}\n",
    "B = {_ for _ in range(2, 6) if _ != 3}\n",
    "print(\"A:\", A, \"\\nB:\", B)\n",
    "print(\"set.difference(A, B):\", set.difference(A, B))\n",
    "print(\"A - B\", A - B)"
   ]
  },
  {
   "cell_type": "code",
   "execution_count": 226,
   "id": "857a4c06-dc1e-4dfe-9a9d-7bf055fc6487",
   "metadata": {},
   "outputs": [
    {
     "name": "stdout",
     "output_type": "stream",
     "text": [
      "A: {1, 2, 3, 4} \n",
      "B: {2, 4, 5}\n",
      "set.symmetric_difference(A, B): {1, 3, 5}\n",
      "A ^ B {1, 3, 5}\n"
     ]
    }
   ],
   "source": [
    "A = {_ for _ in range(1, 5)}\n",
    "B = {_ for _ in range(2, 6) if _ != 3}\n",
    "print(\"A:\", A, \"\\nB:\", B)\n",
    "print(\"set.symmetric_difference(A, B):\", set.symmetric_difference(A, B))\n",
    "print(\"A ^ B\", A ^ B)"
   ]
  },
  {
   "cell_type": "code",
   "execution_count": 220,
   "id": "26f69108-211d-4169-8b54-00451baede9d",
   "metadata": {},
   "outputs": [
    {
     "name": "stdout",
     "output_type": "stream",
     "text": [
      "A: {1, 2, 3, 4} \n",
      "B: {2, 4, 5}\n",
      "A.update(B): {1, 2, 3, 4, 5}\n"
     ]
    }
   ],
   "source": [
    "A = {_ for _ in range(1, 5)}\n",
    "B = {_ for _ in range(2, 6) if _ != 3}\n",
    "print(\"A:\", A, \"\\nB:\", B)\n",
    "A.update(B)\n",
    "print(\"A.update(B):\", A)"
   ]
  },
  {
   "cell_type": "code",
   "execution_count": 221,
   "id": "af3b03a7-c623-4387-bd72-afe1e83c7173",
   "metadata": {},
   "outputs": [
    {
     "name": "stdout",
     "output_type": "stream",
     "text": [
      "A: {1, 2, 3, 4} \n",
      "B: {2, 4, 5}\n",
      "A.update(B): {2, 4}\n"
     ]
    }
   ],
   "source": [
    "A = {_ for _ in range(1, 5)}\n",
    "B = {_ for _ in range(2, 6) if _ != 3}\n",
    "print(\"A:\", A, \"\\nB:\", B)\n",
    "A.intersection_update(B)\n",
    "print(\"A.update(B):\", A)"
   ]
  },
  {
   "cell_type": "code",
   "execution_count": 222,
   "id": "04528e73-5b12-471f-b47d-3fee5fa63463",
   "metadata": {},
   "outputs": [
    {
     "name": "stdout",
     "output_type": "stream",
     "text": [
      "A: {1, 2, 3, 4} \n",
      "B: {2, 4, 5}\n",
      "A.update(B): {1, 3}\n"
     ]
    }
   ],
   "source": [
    "A = {_ for _ in range(1, 5)}\n",
    "B = {_ for _ in range(2, 6) if _ != 3}\n",
    "print(\"A:\", A, \"\\nB:\", B)\n",
    "A.difference_update(B)\n",
    "print(\"A.update(B):\", A)"
   ]
  },
  {
   "cell_type": "code",
   "execution_count": 224,
   "id": "3971ec80-18d7-4e8c-9a9c-6ce4b5535cdd",
   "metadata": {},
   "outputs": [
    {
     "name": "stdout",
     "output_type": "stream",
     "text": [
      "A: {1, 2, 3, 4} \n",
      "B: {2, 4, 5}\n",
      "A.update(B): {1, 3, 5}\n"
     ]
    }
   ],
   "source": [
    "A = {_ for _ in range(1, 5)}\n",
    "B = {_ for _ in range(2, 6) if _ != 3}\n",
    "print(\"A:\", A, \"\\nB:\", B)\n",
    "A.symmetric_difference_update(B)\n",
    "print(\"A.update(B):\", A)"
   ]
  },
  {
   "cell_type": "code",
   "execution_count": 228,
   "id": "8fff5974-dc35-4c4e-8eff-09a561a8e13d",
   "metadata": {},
   "outputs": [
    {
     "name": "stdout",
     "output_type": "stream",
     "text": [
      "A: {0, 1, 2} \n",
      "B: {0, 1}\n",
      "A.issubset(B): False\n"
     ]
    }
   ],
   "source": [
    "A = {_ for _ in range(0, 3)}\n",
    "B = {_ for _ in range(0, 2)}\n",
    "print(\"A:\", A, \"\\nB:\", B)\n",
    "print(\"A.issubset(B):\", A.issubset(B))"
   ]
  },
  {
   "cell_type": "code",
   "execution_count": 230,
   "id": "99fb4300-0dd1-43a5-98bf-bb2dc172100f",
   "metadata": {},
   "outputs": [
    {
     "name": "stdout",
     "output_type": "stream",
     "text": [
      "A: {0, 1, 2} \n",
      "B: {0, 1}\n",
      "A.issuperset(B): True\n"
     ]
    }
   ],
   "source": [
    "A = {_ for _ in range(0, 3)}\n",
    "B = {_ for _ in range(0, 2)}\n",
    "print(\"A:\", A, \"\\nB:\", B)\n",
    "print(\"A.issuperset(B):\", A.issuperset(B))"
   ]
  },
  {
   "cell_type": "code",
   "execution_count": 231,
   "id": "d0da623f-5ec5-4beb-aabc-e00d91d92848",
   "metadata": {},
   "outputs": [
    {
     "name": "stdout",
     "output_type": "stream",
     "text": [
      "A: {0, 1, 2} \n",
      "B: {3, 4, 5}\n",
      "A.isdisjoint(B): True\n"
     ]
    }
   ],
   "source": [
    "A = {_ for _ in range(0, 3)}\n",
    "B = {_ for _ in range(3, 6)}\n",
    "print(\"A:\", A, \"\\nB:\", B)\n",
    "print(\"A.isdisjoint(B):\", A.isdisjoint(B))"
   ]
  },
  {
   "cell_type": "code",
   "execution_count": 232,
   "id": "0ea4b3f6-07e4-4f72-bc84-717ded71d74e",
   "metadata": {},
   "outputs": [
    {
     "name": "stdout",
     "output_type": "stream",
     "text": [
      "{1, 2, 3, 4}\n"
     ]
    }
   ],
   "source": [
    "list_sample = [1, 2, 2, 3, 3, 3, 4, 4, 4, 4]\n",
    "print(set(list_sample))"
   ]
  },
  {
   "cell_type": "code",
   "execution_count": null,
   "id": "84c68184-2bb8-4a4c-9487-78debd8a3573",
   "metadata": {},
   "outputs": [],
   "source": []
  }
 ],
 "metadata": {
  "kernelspec": {
   "display_name": "Python 3 (ipykernel)",
   "language": "python",
   "name": "python3"
  },
  "language_info": {
   "codemirror_mode": {
    "name": "ipython",
    "version": 3
   },
   "file_extension": ".py",
   "mimetype": "text/x-python",
   "name": "python",
   "nbconvert_exporter": "python",
   "pygments_lexer": "ipython3",
   "version": "3.9.13"
  }
 },
 "nbformat": 4,
 "nbformat_minor": 5
}
